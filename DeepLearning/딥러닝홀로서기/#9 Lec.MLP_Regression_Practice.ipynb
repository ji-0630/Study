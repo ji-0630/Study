{
  "nbformat": 4,
  "nbformat_minor": 0,
  "metadata": {
    "colab": {
      "provenance": [],
      "authorship_tag": "ABX9TyPaNJEsN4ef75nYTUXhP9zh"
    },
    "kernelspec": {
      "name": "python3",
      "display_name": "Python 3"
    },
    "language_info": {
      "name": "python"
    }
  },
  "cells": [
    {
      "cell_type": "markdown",
      "source": [
        "## 1. Data Generation(Preparation)"
      ],
      "metadata": {
        "id": "otKlaROo6Gd9"
      }
    },
    {
      "cell_type": "code",
      "source": [
        "X = list(range(10))\n",
        "Y = [1, 1, 2, 4, 5, 7, 8, 9, 9, 10]"
      ],
      "metadata": {
        "id": "faiSvSN_3Ajh"
      },
      "execution_count": null,
      "outputs": []
    },
    {
      "cell_type": "code",
      "source": [
        "#시각화\n",
        "import matplotlib.pyplot as plt\n",
        "plt.plot(X, Y)\n",
        "plt.scatter(X, Y)"
      ],
      "metadata": {
        "colab": {
          "base_uri": "https://localhost:8080/",
          "height": 284
        },
        "id": "o83X4MWe3tiy",
        "outputId": "23efd7b3-0da2-4c12-99fb-09f8cefc4718"
      },
      "execution_count": null,
      "outputs": [
        {
          "output_type": "execute_result",
          "data": {
            "text/plain": [
              "<matplotlib.collections.PathCollection at 0x7fcfd08db550>"
            ]
          },
          "metadata": {},
          "execution_count": 7
        },
        {
          "output_type": "display_data",
          "data": {
            "text/plain": [
              "<Figure size 432x288 with 1 Axes>"
            ],
            "image/png": "[encoded data removed]"
          },
          "metadata": {
            "needs_background": "light"
          }
        }
      ]
    },
    {
      "cell_type": "markdown",
      "source": [
        "## 2. Hypothesis Define(Model Define)\n",
        "\n",
        "f(x) = Wx 라는 모델 구현"
      ],
      "metadata": {
        "id": "AAcRb4306ReZ"
      }
    },
    {
      "cell_type": "code",
      "source": [
        "class H():\n",
        "\n",
        "  # 처음에 모델의 파라미터(학습을 통해 최적화될 값) w를 인풋으로 받아 모델 생성\n",
        "  def __init__(self, w):\n",
        "    self.w = w\n",
        "\n",
        "  # 인스턴스 x가 인풋으로 들어왔을 때 모델이 예측하는 y값 리턴\n",
        "  def forward(self, x):\n",
        "    return self.w * x\n",
        " \n",
        "h = H(4) #f(x) = 4x\n",
        "pred_y = h.forward(5)\n",
        "print('value of f(5): ', pred_y)\n",
        "print('value of w: ', h.w)"
      ],
      "metadata": {
        "colab": {
          "base_uri": "https://localhost:8080/"
        },
        "id": "u7SteLzV4Z5M",
        "outputId": "85dd3577-6db3-4dee-b1f7-0aa2ce74d546"
      },
      "execution_count": null,
      "outputs": [
        {
          "output_type": "stream",
          "name": "stdout",
          "text": [
            "value of f(5):  20\n",
            "value of w:  4\n"
          ]
        }
      ]
    },
    {
      "cell_type": "markdown",
      "source": [
        "## 3. Cost Function Define(Loss Function Define)\n",
        "\n",
        "회귀문제에서 비용함수 정의"
      ],
      "metadata": {
        "id": "tRd72Fgy8ltx"
      }
    },
    {
      "cell_type": "code",
      "source": [
        "def cost(h, X, Y):\n",
        "  error = 0\n",
        "  for i in range(len(X)):\n",
        "    error += (h.forward(X[i]) - Y[i])** 2\n",
        "  error = error / len(X)  \n",
        "  return error\n",
        "\n",
        "h = H(4)\n",
        "print('cost value when x = 4 :', cost(h, X, Y))\n",
        "\n",
        "#조금 더 나은 버전의 코드\n",
        "def better_cost(pred_y, true_y): \n",
        "  error = 0\n",
        "  for i in range(len(X)):\n",
        "    error += (pred_y[i] - true_y[i])**2\n",
        "  error = error/len(X)\n",
        "  return error\n",
        "\n",
        "pred_y = [h.forward(X[i]) for i in range(len(X))]\n",
        "print('cost value with better code structure: ', better_cost(pred_y, Y))"
      ],
      "metadata": {
        "colab": {
          "base_uri": "https://localhost:8080/"
        },
        "id": "UiCoyKMX8Vr7",
        "outputId": "972f045d-3a19-42dd-aa5c-150cd1b03036"
      },
      "execution_count": null,
      "outputs": [
        {
          "output_type": "stream",
          "name": "stdout",
          "text": [
            "cost value when x = 4 : 222.2\n",
            "cost value with better code structure:  222.2\n"
          ]
        }
      ]
    },
    {
      "cell_type": "markdown",
      "source": [
        "### Cost Surface Visualization\n",
        "\n",
        "다양한 w값에 따라서 cost 값이 어떻게 변화하는지 확인"
      ],
      "metadata": {
        "id": "rSLgP7U2-vnr"
      }
    },
    {
      "cell_type": "code",
      "source": [
        "list_w = []\n",
        "list_c = []\n",
        "\n",
        "for i  in range(-20, 20):\n",
        "  w = i * 0.5\n",
        "  h = H(w)\n",
        "  c = cost(h, X, Y)\n",
        "\n",
        "  list_w.append(w)\n",
        "  list_c.append(c)\n",
        "\n",
        "print(list_w)\n",
        "print(list_c)\n",
        "\n",
        "plt.figure(figsize=(10,5))\n",
        "plt.xlabel('w')\n",
        "plt.ylabel('cost')\n",
        "plt.scatter(list_w, list_c, s=3)"
      ],
      "metadata": {
        "colab": {
          "base_uri": "https://localhost:8080/",
          "height": 410
        },
        "id": "yk8I4lvD60kj",
        "outputId": "9da6a68f-9216-4ea3-ed1d-463ebd1ac494"
      },
      "execution_count": null,
      "outputs": [
        {
          "output_type": "stream",
          "name": "stdout",
          "text": [
            "[-10.0, -9.5, -9.0, -8.5, -8.0, -7.5, -7.0, -6.5, -6.0, -5.5, -5.0, -4.5, -4.0, -3.5, -3.0, -2.5, -2.0, -1.5, -1.0, -0.5, 0.0, 0.5, 1.0, 1.5, 2.0, 2.5, 3.0, 3.5, 4.0, 4.5, 5.0, 5.5, 6.0, 6.5, 7.0, 7.5, 8.0, 8.5, 9.0, 9.5]\n",
            "[3582.2, 3269.825, 2971.7, 2687.825, 2418.2, 2162.825, 1921.7, 1694.825, 1482.2, 1283.825, 1099.7, 929.825, 774.2, 632.825, 505.7, 392.825, 294.2, 209.825, 139.7, 83.825, 42.2, 14.825, 1.7, 2.825, 18.2, 47.825, 91.7, 149.825, 222.2, 308.825, 409.7, 524.825, 654.2, 797.825, 955.7, 1127.825, 1314.2, 1514.825, 1729.7, 1958.825]\n"
          ]
        },
        {
          "output_type": "execute_result",
          "data": {
            "text/plain": [
              "<matplotlib.collections.PathCollection at 0x7fcfd07e56d0>"
            ]
          },
          "metadata": {},
          "execution_count": 21
        },
        {
          "output_type": "display_data",
          "data": {
            "text/plain": [
              "<Figure size 720x360 with 1 Axes>"
            ],
            "image/png": "[encoded data removed]"
          },
          "metadata": {
            "needs_background": "light"
          }
        }
      ]
    },
    {
      "cell_type": "markdown",
      "source": [
        "w=1.25쯤에서 cost가 최소값임을 확인\n",
        "\n",
        "## 4. Gradient Descent Algorithm(경사 하강법)\n",
        "\n",
        "특정 w 근방에서의 w에 대한 cost의 편미분 구하기\n",
        "\n",
        "1. 수치해석적으로 w=4인 지점과 w=4+eps인 지점에서 cost 값을 각각 구한 뒤 두 값의 차이를 통해 그라디언트를 구하는 방식\n",
        "\n",
        "2. cost function을 w로 편미분한 공식을 통해 바로 특정 w에서 그라디언트를 구하는 방식\n",
        "\n",
        "** 그라디언트: 경사  \n",
        "** 편미분: 다른 변수들은 상수로 고정시킨 뒤 한 변수에 대해서 미분하는 것  \n",
        "\n",
        "### 1.Compare two approach in order to compute Gradient(Analytic, Formula)"
      ],
      "metadata": {
        "id": "sT5_SiUZ_D-D"
      }
    },
    {
      "cell_type": "code",
      "source": [
        "#수치해석적으로 그라디언트 근사\n",
        "def cal_grad(w, cost):\n",
        "  h = H(w)\n",
        "  cost1 = cost(h, X, Y)\n",
        "  eps = 0.00001\n",
        "  h = H(w+eps) #w에서 epsilon만큼 떨어진 부분에서도 cost 구함\n",
        "  cost2 = cost(h, X, Y)\n",
        "  dcost = cost2-cost1\n",
        "  dw = eps\n",
        "  grad = dcost/dw\n",
        "  return grad, (cost1+cost2)*0.5\n",
        "\n",
        "#편미분한 공식에 바로 대입하여 그라디언트 근사\n",
        "def cal_grad2(w, cost):\n",
        "  h = H(w)\n",
        "  grad = 0\n",
        "  for i in range(len(X)):\n",
        "    grad += 2*(h.forward(X[i]) - Y[i]) * X[i]\n",
        "  grad = grad/len(X)\n",
        "  c = cost(h, X, Y)\n",
        "  return grad, c\n",
        "\n",
        "#두 방식을 이용해서 w=1.4인 지점에서 모델 각각 초기화 후 경사하강법 수행\n",
        "w1= 1.4\n",
        "w2 = 1.4\n",
        "lr = 0.01\n",
        "\n",
        "list_w1=[]\n",
        "list_c1=[]\n",
        "list_w2=[]\n",
        "list_c2=[]\n",
        "\n",
        "for i in range(100):\n",
        "  grad, mean_cost = cal_grad(w1, cost)\n",
        "  grad2, mean_cost2 = cal_grad2(w2, cost)\n",
        "\n",
        "  w1 -= lr * grad\n",
        "  w2 -= lr * grad2\n",
        "  list_w1.append(w1)\n",
        "  list_w2.append(w2)\n",
        "  list_c1.append(mean_cost)\n",
        "  list_c2.append(mean_cost2)\n",
        "\n",
        "print(w1, mean_cost, w2, mean_cost2)\n",
        "\n",
        "plt.scatter(list_w1, list_c1, label='analytic', marker=\"*\")\n",
        "plt.scatter(list_w2, list_c2, label='formula')\n",
        "plt.legend()"
      ],
      "metadata": {
        "colab": {
          "base_uri": "https://localhost:8080/",
          "height": 302
        },
        "id": "7NMuEaDyAhAq",
        "outputId": "aca5628e-314d-4737-cf29-ab7362523f1d"
      },
      "execution_count": null,
      "outputs": [
        {
          "output_type": "stream",
          "name": "stdout",
          "text": [
            "1.2105213157896242 0.43684210597565787 1.2105263157894737 0.43684210526315803\n"
          ]
        },
        {
          "output_type": "execute_result",
          "data": {
            "text/plain": [
              "<matplotlib.legend.Legend at 0x7fcfd07ba850>"
            ]
          },
          "metadata": {},
          "execution_count": 23
        },
        {
          "output_type": "display_data",
          "data": {
            "text/plain": [
              "<Figure size 432x288 with 1 Axes>"
            ],
            "image/png": "[encoded data removed]"
          },
          "metadata": {
            "needs_background": "light"
          }
        }
      ]
    },
    {
      "cell_type": "markdown",
      "source": [
        "거의 정확하게 같은 지점을 찍어서 그래프상 안보임\n",
        "\n",
        "### 2. Compare Training process of Two Models Initialized from Different w value\n",
        "\n",
        "편미분 공식 확용하여 경사하강법 진행하되 서로 다른 w지점으로 초기화되었을 때"
      ],
      "metadata": {
        "id": "9cZ1u1xCCvqD"
      }
    },
    {
      "cell_type": "code",
      "source": [
        "w1= 1.4\n",
        "w2 = 1.1\n",
        "lr = 0.01\n",
        "\n",
        "list_w1=[]\n",
        "list_c1=[]\n",
        "list_w2=[]\n",
        "list_c2=[]\n",
        "\n",
        "for i in range(100):\n",
        "  grad, mean_cost = cal_grad(w1, cost)\n",
        "  grad2, mean_cost2 = cal_grad2(w2, cost)\n",
        "\n",
        "  w1 -= lr * grad\n",
        "  w2 -= lr * grad2\n",
        "  list_w1.append(w1)\n",
        "  list_w2.append(w2)\n",
        "  list_c1.append(mean_cost)\n",
        "  list_c2.append(mean_cost2)\n",
        "\n",
        "print(w1, mean_cost, w2, mean_cost2)\n",
        "\n",
        "plt.scatter(list_w1, list_c1, label='start from w=1.4', marker=\"*\")\n",
        "plt.scatter(list_w2, list_c2, label='start from w=1.1')\n",
        "plt.legend()"
      ],
      "metadata": {
        "colab": {
          "base_uri": "https://localhost:8080/",
          "height": 302
        },
        "id": "S4NuynayDW4D",
        "outputId": "d0308be9-273d-43ff-a50f-d40b22d04627"
      },
      "execution_count": null,
      "outputs": [
        {
          "output_type": "stream",
          "name": "stdout",
          "text": [
            "1.2105213157896242 0.43684210597565787 1.2105263157894737 0.43684210526315803\n"
          ]
        },
        {
          "output_type": "execute_result",
          "data": {
            "text/plain": [
              "<matplotlib.legend.Legend at 0x7fcfc973b590>"
            ]
          },
          "metadata": {},
          "execution_count": 24
        },
        {
          "output_type": "display_data",
          "data": {
            "text/plain": [
              "<Figure size 432x288 with 1 Axes>"
            ],
            "image/png": "[encoded data removed]"
          },
          "metadata": {
            "needs_background": "light"
          }
        }
      ]
    }
  ]
}