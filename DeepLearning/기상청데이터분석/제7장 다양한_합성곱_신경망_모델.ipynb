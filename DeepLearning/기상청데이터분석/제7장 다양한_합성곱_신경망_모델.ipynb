{
  "nbformat": 4,
  "nbformat_minor": 0,
  "metadata": {
    "colab": {
      "provenance": [],
      "mount_file_id": "1oKoDQMD9Sss3phTF-eR3U9cbnTz6zhut",
      "authorship_tag": "ABX9TyPEbbS+ywZcn0NPNCjvTXTn"
    },
    "kernelspec": {
      "name": "python3",
      "display_name": "Python 3"
    },
    "language_info": {
      "name": "python"
    },
    "accelerator": "GPU"
  },
  "cells": [
    {
      "cell_type": "markdown",
      "source": [
        "### 7.1 VGGNet(2014)"
      ],
      "metadata": {
        "id": "_8g2KFutj7uL"
      }
    },
    {
      "cell_type": "code",
      "execution_count": 1,
      "metadata": {
        "id": "35G15DCGjIO6"
      },
      "outputs": [],
      "source": [
        "import numpy as np\n",
        "import pandas as pd\n",
        "import matplotlib.pyplot as plt\n",
        "import seaborn as sns\n",
        "import cv2\n",
        "import tqdm as tqdm"
      ]
    },
    {
      "cell_type": "code",
      "source": [
        "import os\n",
        "root_dir = \"/content/drive/MyDrive/2022 DataCreatorCamp_나 is NICE/new_dataset/\"\n",
        "image_label = os.listdir(root_dir)\n",
        "image_label = image_label[:5]\n",
        "image_label\n"
      ],
      "metadata": {
        "colab": {
          "base_uri": "https://localhost:8080/"
        },
        "id": "Iulnl7EXkMcF",
        "outputId": "70ef63b5-f5a3-4638-e19d-0bfae4d5e985"
      },
      "execution_count": 2,
      "outputs": [
        {
          "output_type": "execute_result",
          "data": {
            "text/plain": [
              "['L2_10', 'L2_12', 'L2_15', 'L2_20', 'L2_21']"
            ]
          },
          "metadata": {},
          "execution_count": 2
        }
      ]
    },
    {
      "cell_type": "code",
      "source": [
        "# opencv를 통해 이미지 로드하고 이미지의 사이즈가 모두 동일하게 변경\n",
        "train_x = []\n",
        "train_y = []\n",
        "test_x = []\n",
        "test_y = []\n",
        "dataset = []\n",
        "\n",
        "def create_dataset(directory, dir_name):\n",
        "  for i in tqdm.tqdm(os.listdir(directory)):\n",
        "    full_path = os.path.join(directory, i)\n",
        "    try:\n",
        "      img = cv2.imread(full_path) #이미지 읽기\n",
        "      img = cv2.cvtColor(img, cv2.COLOR_BGR2RGB) #RGB형태로 변환\n",
        "      img = cv2.resize(img, (150,150)) #이미지 사이즈 변경\n",
        "    except:\n",
        "      continue\n",
        "\n",
        "    if dir_name == \"alien_test\":\n",
        "      test_x.append(img)\n",
        "      test_y.append(i)\n",
        "    else:\n",
        "      train_x.append(img)\n",
        "      train_y.append(dir_name)\n",
        "  return train_x, train_y, test_x, test_y"
      ],
      "metadata": {
        "id": "F0ZIGTUxkhOq"
      },
      "execution_count": 3,
      "outputs": []
    },
    {
      "cell_type": "code",
      "source": [
        "for img_label in image_label:\n",
        "  trian_x, train_y, test_x, test_y = create_dataset(f\"{root_dir}{img_label}\", img_label)"
      ],
      "metadata": {
        "colab": {
          "base_uri": "https://localhost:8080/"
        },
        "id": "Fzpi2JZlkrVj",
        "outputId": "be4d6274-415c-40f9-eee6-c84bbca8ffd5"
      },
      "execution_count": 4,
      "outputs": [
        {
          "output_type": "stream",
          "name": "stderr",
          "text": [
            "100%|██████████| 1893/1893 [00:41<00:00, 46.08it/s] \n",
            "100%|██████████| 518/518 [00:11<00:00, 44.70it/s] \n",
            "100%|██████████| 1509/1509 [00:32<00:00, 45.96it/s] \n",
            "100%|██████████| 410/410 [00:07<00:00, 52.64it/s] \n",
            "100%|██████████| 410/410 [00:07<00:00, 55.21it/s] \n"
          ]
        }
      ]
    },
    {
      "cell_type": "code",
      "source": [
        "#배열 형태로 x, y 값 변경\n",
        "x = np.array(train_x)\n",
        "y = np.array(train_y)\n",
        "x.shape, y.shape"
      ],
      "metadata": {
        "colab": {
          "base_uri": "https://localhost:8080/"
        },
        "id": "YD0BEenEkuSR",
        "outputId": "7855100b-818e-455e-aebd-8e8d0d6c397c"
      },
      "execution_count": 5,
      "outputs": [
        {
          "output_type": "execute_result",
          "data": {
            "text/plain": [
              "((4740, 150, 150, 3), (4740,))"
            ]
          },
          "metadata": {},
          "execution_count": 5
        }
      ]
    },
    {
      "cell_type": "code",
      "source": [
        "#학습세트와 검증세트를 분리\n",
        "from sklearn.model_selection import train_test_split\n",
        "\n",
        "x_train, x_valid, y_train, y_valid = train_test_split(x, y, test_size=0.2, random_state=42)"
      ],
      "metadata": {
        "id": "pBzdSLyRkwWm"
      },
      "execution_count": 6,
      "outputs": []
    },
    {
      "cell_type": "code",
      "source": [
        "img_size =150 #이미지 150픽셀로 만들어줌\n",
        "\n",
        "x_train = np.array(x_train)/255.0 #학습에 사용하기 적합한 형태로 만들어줌\n",
        "x_valid = np.array(x_valid)/255.0\n",
        "\n",
        "x_train = x_train.reshape(-1, img_size, img_size, 3)\n",
        "y_train = np.array(y_train)\n",
        "\n",
        "x_valid = x_valid.reshape(-1, img_size, img_size, 3)\n",
        "y_valid = np.array(y_valid)"
      ],
      "metadata": {
        "id": "Z8pFNdUxkyOs"
      },
      "execution_count": 7,
      "outputs": []
    },
    {
      "cell_type": "code",
      "source": [
        "#예측에 사용할 데이터 세트의 사이즈 변경\n",
        "x_test = np.array(test_x).reshape(-1, img_size, img_size, 3)\n",
        "x_test.shape"
      ],
      "metadata": {
        "colab": {
          "base_uri": "https://localhost:8080/"
        },
        "id": "kvNJPtQhky0c",
        "outputId": "f18f2126-8bd8-4832-9466-b7b9c584713c"
      },
      "execution_count": 8,
      "outputs": [
        {
          "output_type": "execute_result",
          "data": {
            "text/plain": [
              "(0, 150, 150, 3)"
            ]
          },
          "metadata": {},
          "execution_count": 8
        }
      ]
    },
    {
      "cell_type": "code",
      "source": [
        "#LabelBinaizer을 통해 정답값을 one-hot 형태로 변경\n",
        "from sklearn.preprocessing import LabelBinarizer\n",
        "lb = LabelBinarizer()\n",
        "y_train_lb = lb.fit_transform(y_train)\n",
        "y_valid_lb = lb.fit_transform(y_valid)\n",
        "y_train_lb.shape, y_valid_lb.shape"
      ],
      "metadata": {
        "colab": {
          "base_uri": "https://localhost:8080/"
        },
        "id": "MMGXe7DLk3eN",
        "outputId": "8a154f84-77d7-46c5-baef-113e45dfd7a6"
      },
      "execution_count": 9,
      "outputs": [
        {
          "output_type": "execute_result",
          "data": {
            "text/plain": [
              "((3792, 5), (948, 5))"
            ]
          },
          "metadata": {},
          "execution_count": 9
        }
      ]
    },
    {
      "cell_type": "markdown",
      "source": [
        "#### VGG19"
      ],
      "metadata": {
        "id": "EGEVwy_plNQn"
      }
    },
    {
      "cell_type": "code",
      "source": [
        "# 19개 층 사용하는 vgg19 모델 불러옴\n",
        "from tensorflow.keras.applications.vgg19 import VGG19\n",
        "vgg = VGG19(weights=\"imagenet\", include_top=False, input_shape=(img_size, img_size, 3))"
      ],
      "metadata": {
        "colab": {
          "base_uri": "https://localhost:8080/"
        },
        "id": "WQY2WYzek5WF",
        "outputId": "e82f6ce2-8b85-4fb6-aa12-768e0d52b464"
      },
      "execution_count": 10,
      "outputs": [
        {
          "output_type": "stream",
          "name": "stdout",
          "text": [
            "Downloading data from https://storage.googleapis.com/tensorflow/keras-applications/vgg19/vgg19_weights_tf_dim_ordering_tf_kernels_notop.h5\n",
            "80134624/80134624 [==============================] - 2s 0us/step\n"
          ]
        }
      ]
    },
    {
      "cell_type": "code",
      "source": [
        "for layer in vgg.layers:\n",
        "  layer.trainable = False"
      ],
      "metadata": {
        "id": "9dcVOqfZlTqN"
      },
      "execution_count": 11,
      "outputs": []
    },
    {
      "cell_type": "code",
      "source": [
        "# Sequential 층에서 vgg 모델 추가\n",
        "from tensorflow.keras import Sequential\n",
        "from tensorflow.keras.layers import Flatten, Dense\n",
        "\n",
        "model = Sequential()\n",
        "model.add(vgg)\n",
        "model.add(Flatten())\n",
        "model.add(Dense(5, activation='softmax'))"
      ],
      "metadata": {
        "id": "qeAWdIBqlZLt"
      },
      "execution_count": 12,
      "outputs": []
    },
    {
      "cell_type": "code",
      "source": [
        "model.summary()"
      ],
      "metadata": {
        "colab": {
          "base_uri": "https://localhost:8080/"
        },
        "id": "KZosU0iQlnte",
        "outputId": "0a514085-7401-48eb-f348-a0c3d0fc7740"
      },
      "execution_count": 13,
      "outputs": [
        {
          "output_type": "stream",
          "name": "stdout",
          "text": [
            "Model: \"sequential\"\n",
            "_________________________________________________________________\n",
            " Layer (type)                Output Shape              Param #   \n",
            "=================================================================\n",
            " vgg19 (Functional)          (None, 4, 4, 512)         20024384  \n",
            "                                                                 \n",
            " flatten (Flatten)           (None, 8192)              0         \n",
            "                                                                 \n",
            " dense (Dense)               (None, 5)                 40965     \n",
            "                                                                 \n",
            "=================================================================\n",
            "Total params: 20,065,349\n",
            "Trainable params: 40,965\n",
            "Non-trainable params: 20,024,384\n",
            "_________________________________________________________________\n"
          ]
        }
      ]
    },
    {
      "cell_type": "code",
      "source": [
        "model.compile(optimizer='adam',loss='categorical_crossentropy', metrics='accuracy')\n",
        "\n",
        "from tensorflow.keras.callbacks import ModelCheckpoint, EarlyStopping\n",
        "checkpoint = ModelCheckpoint(\"vgg19.h5\", monitor='val_accuracy', verbose=1, save_best_only=True, save_weights_only=False)\n",
        "earlystop = EarlyStopping(monitor='val_accuracy', patience=5, verbose=1)"
      ],
      "metadata": {
        "id": "qL_UhPwSlpp2"
      },
      "execution_count": 14,
      "outputs": []
    },
    {
      "cell_type": "code",
      "source": [
        "unique, counts = np.unique(y_train_lb, return_counts=True)\n",
        "print(unique, counts)"
      ],
      "metadata": {
        "colab": {
          "base_uri": "https://localhost:8080/"
        },
        "id": "IKi8YMNQmROf",
        "outputId": "74ed284a-d0f5-4707-ded0-f9d46894902c"
      },
      "execution_count": 15,
      "outputs": [
        {
          "output_type": "stream",
          "name": "stdout",
          "text": [
            "[0 1] [15168  3792]\n"
          ]
        }
      ]
    },
    {
      "cell_type": "code",
      "source": [
        "history = model.fit(x_train, y_train_lb, epochs=30, validation_data=(x_valid, y_valid_lb), \n",
        "                    batch_size=32, verbose=1, callbacks=[checkpoint, earlystop])"
      ],
      "metadata": {
        "colab": {
          "base_uri": "https://localhost:8080/"
        },
        "id": "wM9QsPvnmeaX",
        "outputId": "f5ea2602-8bbb-4ff5-a9f0-72a6b2a5163e"
      },
      "execution_count": 16,
      "outputs": [
        {
          "output_type": "stream",
          "name": "stdout",
          "text": [
            "Epoch 1/30\n",
            "119/119 [==============================] - ETA: 0s - loss: 0.4881 - accuracy: 0.8434\n",
            "Epoch 1: val_accuracy improved from -inf to 0.95359, saving model to vgg19.h5\n",
            "119/119 [==============================] - 26s 141ms/step - loss: 0.4881 - accuracy: 0.8434 - val_loss: 0.2095 - val_accuracy: 0.9536\n",
            "Epoch 2/30\n",
            "119/119 [==============================] - ETA: 0s - loss: 0.1622 - accuracy: 0.9607\n",
            "Epoch 2: val_accuracy improved from 0.95359 to 0.97046, saving model to vgg19.h5\n",
            "119/119 [==============================] - 14s 120ms/step - loss: 0.1622 - accuracy: 0.9607 - val_loss: 0.1375 - val_accuracy: 0.9705\n",
            "Epoch 3/30\n",
            "119/119 [==============================] - ETA: 0s - loss: 0.0983 - accuracy: 0.9829\n",
            "Epoch 3: val_accuracy improved from 0.97046 to 0.97574, saving model to vgg19.h5\n",
            "119/119 [==============================] - 15s 124ms/step - loss: 0.0983 - accuracy: 0.9829 - val_loss: 0.1061 - val_accuracy: 0.9757\n",
            "Epoch 4/30\n",
            "119/119 [==============================] - ETA: 0s - loss: 0.0670 - accuracy: 0.9910\n",
            "Epoch 4: val_accuracy improved from 0.97574 to 0.98101, saving model to vgg19.h5\n",
            "119/119 [==============================] - 15s 128ms/step - loss: 0.0670 - accuracy: 0.9910 - val_loss: 0.0886 - val_accuracy: 0.9810\n",
            "Epoch 5/30\n",
            "119/119 [==============================] - ETA: 0s - loss: 0.0466 - accuracy: 0.9955\n",
            "Epoch 5: val_accuracy did not improve from 0.98101\n",
            "119/119 [==============================] - 15s 127ms/step - loss: 0.0466 - accuracy: 0.9955 - val_loss: 0.0886 - val_accuracy: 0.9747\n",
            "Epoch 6/30\n",
            "119/119 [==============================] - ETA: 0s - loss: 0.0352 - accuracy: 0.9976\n",
            "Epoch 6: val_accuracy did not improve from 0.98101\n",
            "119/119 [==============================] - 15s 124ms/step - loss: 0.0352 - accuracy: 0.9976 - val_loss: 0.0783 - val_accuracy: 0.9789\n",
            "Epoch 7/30\n",
            "119/119 [==============================] - ETA: 0s - loss: 0.0279 - accuracy: 0.9987\n",
            "Epoch 7: val_accuracy did not improve from 0.98101\n",
            "119/119 [==============================] - 14s 122ms/step - loss: 0.0279 - accuracy: 0.9987 - val_loss: 0.0698 - val_accuracy: 0.9800\n",
            "Epoch 8/30\n",
            "119/119 [==============================] - ETA: 0s - loss: 0.0219 - accuracy: 0.9989\n",
            "Epoch 8: val_accuracy did not improve from 0.98101\n",
            "119/119 [==============================] - 14s 122ms/step - loss: 0.0219 - accuracy: 0.9989 - val_loss: 0.0691 - val_accuracy: 0.9778\n",
            "Epoch 9/30\n",
            "119/119 [==============================] - ETA: 0s - loss: 0.0185 - accuracy: 0.9995\n",
            "Epoch 9: val_accuracy did not improve from 0.98101\n",
            "119/119 [==============================] - 15s 123ms/step - loss: 0.0185 - accuracy: 0.9995 - val_loss: 0.0596 - val_accuracy: 0.9810\n",
            "Epoch 9: early stopping\n"
          ]
        }
      ]
    },
    {
      "cell_type": "code",
      "source": [
        "# 학습 결과를 데이터프레임 형태로 변환\n",
        "df_hist = pd.DataFrame(history.history)\n",
        "df_hist.head()"
      ],
      "metadata": {
        "colab": {
          "base_uri": "https://localhost:8080/",
          "height": 206
        },
        "id": "b_e6EgtQpFDV",
        "outputId": "c288b104-6ed9-4239-94fa-0f70b4d67fc8"
      },
      "execution_count": 17,
      "outputs": [
        {
          "output_type": "execute_result",
          "data": {
            "text/plain": [
              "       loss  accuracy  val_loss  val_accuracy\n",
              "0  0.488094  0.843354  0.209485      0.953587\n",
              "1  0.162228  0.960707  0.137517      0.970464\n",
              "2  0.098303  0.982859  0.106063      0.975738\n",
              "3  0.066993  0.991034  0.088596      0.981013\n",
              "4  0.046634  0.995517  0.088635      0.974684"
            ],
            "text/html": [
              "\n",
              "  <div id=\"df-7220938c-b552-4f0a-919c-9adfec2c1e9a\">\n",
              "    <div class=\"colab-df-container\">\n",
              "      <div>\n",
              "<style scoped>\n",
              "    .dataframe tbody tr th:only-of-type {\n",
              "        vertical-align: middle;\n",
              "    }\n",
              "\n",
              "    .dataframe tbody tr th {\n",
              "        vertical-align: top;\n",
              "    }\n",
              "\n",
              "    .dataframe thead th {\n",
              "        text-align: right;\n",
              "    }\n",
              "</style>\n",
              "<table border=\"1\" class=\"dataframe\">\n",
              "  <thead>\n",
              "    <tr style=\"text-align: right;\">\n",
              "      <th></th>\n",
              "      <th>loss</th>\n",
              "      <th>accuracy</th>\n",
              "      <th>val_loss</th>\n",
              "      <th>val_accuracy</th>\n",
              "    </tr>\n",
              "  </thead>\n",
              "  <tbody>\n",
              "    <tr>\n",
              "      <th>0</th>\n",
              "      <td>0.488094</td>\n",
              "      <td>0.843354</td>\n",
              "      <td>0.209485</td>\n",
              "      <td>0.953587</td>\n",
              "    </tr>\n",
              "    <tr>\n",
              "      <th>1</th>\n",
              "      <td>0.162228</td>\n",
              "      <td>0.960707</td>\n",
              "      <td>0.137517</td>\n",
              "      <td>0.970464</td>\n",
              "    </tr>\n",
              "    <tr>\n",
              "      <th>2</th>\n",
              "      <td>0.098303</td>\n",
              "      <td>0.982859</td>\n",
              "      <td>0.106063</td>\n",
              "      <td>0.975738</td>\n",
              "    </tr>\n",
              "    <tr>\n",
              "      <th>3</th>\n",
              "      <td>0.066993</td>\n",
              "      <td>0.991034</td>\n",
              "      <td>0.088596</td>\n",
              "      <td>0.981013</td>\n",
              "    </tr>\n",
              "    <tr>\n",
              "      <th>4</th>\n",
              "      <td>0.046634</td>\n",
              "      <td>0.995517</td>\n",
              "      <td>0.088635</td>\n",
              "      <td>0.974684</td>\n",
              "    </tr>\n",
              "  </tbody>\n",
              "</table>\n",
              "</div>\n",
              "      <button class=\"colab-df-convert\" onclick=\"convertToInteractive('df-7220938c-b552-4f0a-919c-9adfec2c1e9a')\"\n",
              "              title=\"Convert this dataframe to an interactive table.\"\n",
              "              style=\"display:none;\">\n",
              "        \n",
              "  <svg xmlns=\"http://www.w3.org/2000/svg\" height=\"24px\"viewBox=\"0 0 24 24\"\n",
              "       width=\"24px\">\n",
              "    <path d=\"M0 0h24v24H0V0z\" fill=\"none\"/>\n",
              "    <path d=\"M18.56 5.44l.94 2.06.94-2.06 2.06-.94-2.06-.94-.94-2.06-.94 2.06-2.06.94zm-11 1L8.5 8.5l.94-2.06 2.06-.94-2.06-.94L8.5 2.5l-.94 2.06-2.06.94zm10 10l.94 2.06.94-2.06 2.06-.94-2.06-.94-.94-2.06-.94 2.06-2.06.94z\"/><path d=\"M17.41 7.96l-1.37-1.37c-.4-.4-.92-.59-1.43-.59-.52 0-1.04.2-1.43.59L10.3 9.45l-7.72 7.72c-.78.78-.78 2.05 0 2.83L4 21.41c.39.39.9.59 1.41.59.51 0 1.02-.2 1.41-.59l7.78-7.78 2.81-2.81c.8-.78.8-2.07 0-2.86zM5.41 20L4 18.59l7.72-7.72 1.47 1.35L5.41 20z\"/>\n",
              "  </svg>\n",
              "      </button>\n",
              "      \n",
              "  <style>\n",
              "    .colab-df-container {\n",
              "      display:flex;\n",
              "      flex-wrap:wrap;\n",
              "      gap: 12px;\n",
              "    }\n",
              "\n",
              "    .colab-df-convert {\n",
              "      background-color: #E8F0FE;\n",
              "      border: none;\n",
              "      border-radius: 50%;\n",
              "      cursor: pointer;\n",
              "      display: none;\n",
              "      fill: #1967D2;\n",
              "      height: 32px;\n",
              "      padding: 0 0 0 0;\n",
              "      width: 32px;\n",
              "    }\n",
              "\n",
              "    .colab-df-convert:hover {\n",
              "      background-color: #E2EBFA;\n",
              "      box-shadow: 0px 1px 2px rgba(60, 64, 67, 0.3), 0px 1px 3px 1px rgba(60, 64, 67, 0.15);\n",
              "      fill: #174EA6;\n",
              "    }\n",
              "\n",
              "    [theme=dark] .colab-df-convert {\n",
              "      background-color: #3B4455;\n",
              "      fill: #D2E3FC;\n",
              "    }\n",
              "\n",
              "    [theme=dark] .colab-df-convert:hover {\n",
              "      background-color: #434B5C;\n",
              "      box-shadow: 0px 1px 3px 1px rgba(0, 0, 0, 0.15);\n",
              "      filter: drop-shadow(0px 1px 2px rgba(0, 0, 0, 0.3));\n",
              "      fill: #FFFFFF;\n",
              "    }\n",
              "  </style>\n",
              "\n",
              "      <script>\n",
              "        const buttonEl =\n",
              "          document.querySelector('#df-7220938c-b552-4f0a-919c-9adfec2c1e9a button.colab-df-convert');\n",
              "        buttonEl.style.display =\n",
              "          google.colab.kernel.accessAllowed ? 'block' : 'none';\n",
              "\n",
              "        async function convertToInteractive(key) {\n",
              "          const element = document.querySelector('#df-7220938c-b552-4f0a-919c-9adfec2c1e9a');\n",
              "          const dataTable =\n",
              "            await google.colab.kernel.invokeFunction('convertToInteractive',\n",
              "                                                     [key], {});\n",
              "          if (!dataTable) return;\n",
              "\n",
              "          const docLinkHtml = 'Like what you see? Visit the ' +\n",
              "            '<a target=\"_blank\" href=https://colab.research.google.com/notebooks/data_table.ipynb>data table notebook</a>'\n",
              "            + ' to learn more about interactive tables.';\n",
              "          element.innerHTML = '';\n",
              "          dataTable['output_type'] = 'display_data';\n",
              "          await google.colab.output.renderOutput(dataTable, element);\n",
              "          const docLink = document.createElement('div');\n",
              "          docLink.innerHTML = docLinkHtml;\n",
              "          element.appendChild(docLink);\n",
              "        }\n",
              "      </script>\n",
              "    </div>\n",
              "  </div>\n",
              "  "
            ]
          },
          "metadata": {},
          "execution_count": 17
        }
      ]
    },
    {
      "cell_type": "code",
      "source": [
        "# 학습 결과 시각화\n",
        "df_hist[['accuracy', 'val_accuracy']].plot(figsize=(12,5))\n",
        "df_hist[['val_loss', 'val_loss']].plot(figsize=(12,5))"
      ],
      "metadata": {
        "colab": {
          "base_uri": "https://localhost:8080/",
          "height": 642
        },
        "id": "RWptLbK-o-g_",
        "outputId": "0cbdfffc-121e-46ae-8db6-04f40ee8bcb6"
      },
      "execution_count": 18,
      "outputs": [
        {
          "output_type": "execute_result",
          "data": {
            "text/plain": [
              "<matplotlib.axes._subplots.AxesSubplot at 0x7fec3f7b0250>"
            ]
          },
          "metadata": {},
          "execution_count": 18
        },
        {
          "output_type": "display_data",
          "data": {
            "text/plain": [
              "<Figure size 864x360 with 1 Axes>"
            ],
            "image/png": "[encoded data removed]"
          },
          "metadata": {
            "needs_background": "light"
          }
        },
        {
          "output_type": "display_data",
          "data": {
            "text/plain": [
              "<Figure size 864x360 with 1 Axes>"
            ],
            "image/png": "[encoded data removed]"
          },
          "metadata": {
            "needs_background": "light"
          }
        }
      ]
    },
    {
      "cell_type": "code",
      "source": [
        "# 예측 시작\n",
        "predict = model.predict(x_test)\n",
        "y_predict = np.argmax(predict, axis=1)\n",
        "y_predict"
      ],
      "metadata": {
        "id": "SPn5pE2OpPh3"
      },
      "execution_count": null,
      "outputs": []
    },
    {
      "cell_type": "code",
      "source": [
        "# 정답지 불러옴\n",
        "df_test = pd.read_csv(f\"{root_dir}/test.csv\") #여기에 경로 넣기\n",
        "df_test = df_test.set_index(\"Image_id\").loc[test_y].reset_index()\n",
        "df_test.head()"
      ],
      "metadata": {
        "id": "xrugLKm6pTBl"
      },
      "execution_count": null,
      "outputs": []
    },
    {
      "cell_type": "code",
      "source": [
        "y_test = df_test['labels']"
      ],
      "metadata": {
        "id": "_Rt2JPorpVYM"
      },
      "execution_count": null,
      "outputs": []
    },
    {
      "cell_type": "code",
      "source": [
        "# 정확도 직접 구하기\n",
        "(y_test == y_predict).mean()"
      ],
      "metadata": {
        "id": "JaCRSw7CpfFl"
      },
      "execution_count": null,
      "outputs": []
    },
    {
      "cell_type": "code",
      "source": [
        "# 변경된 값 비교해 보기 위해 정답값을 딕셔너리 형태로 만듦\n",
        "\n",
        "label_name = dict(zip(np.argmax(y_train_lb, axis=1), y_train))\n",
        "label_name"
      ],
      "metadata": {
        "id": "R3WqYHROpgkF"
      },
      "execution_count": null,
      "outputs": []
    },
    {
      "cell_type": "code",
      "source": [
        "# 정답지 시각화\n",
        "plt.figure(figsize=(12,15))\n",
        "for index, row in df_test.iterrows():\n",
        "  filename = row['Image_id']\n",
        "  category = row['labels']\n",
        "  img = x_test[index]\n",
        "  plt.subplot(6,5,index+1)\n",
        "  plt.imshow(img)\n",
        "  if category != y_predict[index]:\n",
        "    c=\"red\"\n",
        "  else:\n",
        "    c=\"black\"\n",
        "  plt.xlabel(f\"{filename}(label_name[y_predict[index]]}\", color = c)\n",
        "plt.tight_layout()\n",
        "plt.show()"
      ],
      "metadata": {
        "id": "GpVmOX12ptZN"
      },
      "execution_count": null,
      "outputs": []
    },
    {
      "cell_type": "code",
      "source": [],
      "metadata": {
        "id": "CfNcUALOqPct"
      },
      "execution_count": null,
      "outputs": []
    }
  ]
}