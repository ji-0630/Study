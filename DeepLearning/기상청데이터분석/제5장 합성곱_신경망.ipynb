{
  "nbformat": 4,
  "nbformat_minor": 0,
  "metadata": {
    "colab": {
      "provenance": [],
      "authorship_tag": "ABX9TyO3EXq9Q8OVP2ZNC9boLOW+"
    },
    "kernelspec": {
      "name": "python3",
      "display_name": "Python 3"
    },
    "language_info": {
      "name": "python"
    }
  },
  "cells": [
    {
      "cell_type": "markdown",
      "source": [
        "### 1. 합성곱 층\n"
      ],
      "metadata": {
        "id": "2tvRmC4gFrhZ"
      }
    },
    {
      "cell_type": "code",
      "execution_count": 4,
      "metadata": {
        "colab": {
          "base_uri": "https://localhost:8080/"
        },
        "id": "E0YPwyefFK67",
        "outputId": "57c6218c-c632-4055-a0d4-bbbd54899bfb"
      },
      "outputs": [
        {
          "output_type": "stream",
          "name": "stdout",
          "text": [
            "(None, 150, 150, 32)\n",
            "(None, 148, 148, 32)\n"
          ]
        }
      ],
      "source": [
        "from tensorflow.keras.models import Sequential \n",
        "from tensorflow.keras.layers import Conv2D\n",
        "from tensorflow.keras.utils import plot_model\n",
        "\n",
        "model = Sequential() #sequential 모델 만들기\n",
        "model.add(Conv2D(filters=32, kernel_size=(3,3), strides=1, padding='same', input_shape=(150, 150, 3))) #첫 번째 합성곱층\n",
        "print(model.output_shape)\n",
        "\n",
        "model.add(Conv2D(filters=32, kernel_size=(3,3), strides=1, padding='valid',))\n",
        "print(model.output_shape)"
      ]
    },
    {
      "cell_type": "markdown",
      "source": [
        "입력을 (150,150,32) 로 받아서 *padiding이 same이어서 동일\n",
        "\n",
        "\n",
        "합성곱층을 거쳐서 (148,148,32)로 변경됨 *padding이 valid여서 커널 사이즈 만큼 줄어들었음"
      ],
      "metadata": {
        "id": "M8LEz_GcL98w"
      }
    },
    {
      "cell_type": "code",
      "source": [
        "model.summary()"
      ],
      "metadata": {
        "colab": {
          "base_uri": "https://localhost:8080/"
        },
        "id": "_1FbrtMSL593",
        "outputId": "a66ee30f-3048-456f-ca44-44f85f059b2c"
      },
      "execution_count": 5,
      "outputs": [
        {
          "output_type": "stream",
          "name": "stdout",
          "text": [
            "Model: \"sequential_2\"\n",
            "_________________________________________________________________\n",
            " Layer (type)                Output Shape              Param #   \n",
            "=================================================================\n",
            " conv2d_2 (Conv2D)           (None, 150, 150, 32)      896       \n",
            "                                                                 \n",
            " conv2d_3 (Conv2D)           (None, 148, 148, 32)      9248      \n",
            "                                                                 \n",
            "=================================================================\n",
            "Total params: 10,144\n",
            "Trainable params: 10,144\n",
            "Non-trainable params: 0\n",
            "_________________________________________________________________\n"
          ]
        }
      ]
    },
    {
      "cell_type": "code",
      "source": [
        "plot_model(model)"
      ],
      "metadata": {
        "colab": {
          "base_uri": "https://localhost:8080/",
          "height": 272
        },
        "id": "EUzrAaO5MkFA",
        "outputId": "2ee086ac-b4ca-4e67-fa13-3374062cfa9d"
      },
      "execution_count": 6,
      "outputs": [
        {
          "output_type": "execute_result",
          "data": {
            "image/png": "[encoded data removed]",
            "text/plain": [
              "<IPython.core.display.Image object>"
            ]
          },
          "metadata": {},
          "execution_count": 6
        }
      ]
    },
    {
      "cell_type": "markdown",
      "source": [
        "### 2. 풀링층"
      ],
      "metadata": {
        "id": "TEu-VNo6MrX_"
      }
    },
    {
      "cell_type": "code",
      "source": [
        "from tensorflow.keras.models import Sequential\n",
        "from tensorflow.keras.layers import Conv2D, MaxPooling2D, Dense, Flatten\n",
        "\n",
        "model = Sequential()\n",
        "model.add(Conv2D(filters=32, kernel_size=(3,3), strides=1, padding='same', input_shape=(150,150,3)))\n",
        "model.add(MaxPooling2D(2,2)) #데이터 사이즈 줄여줌(서브샘플링)\n",
        "model.add(Conv2D(filters=32, kernel_size=(4,4), strides=1, padding='valid', ))\n",
        "model.add(MaxPooling2D(2,2))\n",
        "print(model.output_shape)\n",
        "\n",
        "model.add(Flatten()) #1차원 배열로 완전연결네트워크 구성\n",
        "print(model.output_shape)\n",
        "\n",
        "model.add(Dense(256, activation='relu'))\n",
        "model.add(Dense(5, activation='softmax')) #5가지로 분류할 수 있도록 출력 5로 설정"
      ],
      "metadata": {
        "colab": {
          "base_uri": "https://localhost:8080/"
        },
        "id": "FALJ-zfjNZiA",
        "outputId": "d9105abd-68e0-4e42-e785-920aea757887"
      },
      "execution_count": 9,
      "outputs": [
        {
          "output_type": "stream",
          "name": "stdout",
          "text": [
            "(None, 36, 36, 32)\n",
            "(None, 41472)\n"
          ]
        }
      ]
    },
    {
      "cell_type": "code",
      "source": [
        "model.summary()"
      ],
      "metadata": {
        "colab": {
          "base_uri": "https://localhost:8080/"
        },
        "id": "9GuzSvTzPB2K",
        "outputId": "b82ce3dd-4104-4fff-bffa-b2df3047ee57"
      },
      "execution_count": 10,
      "outputs": [
        {
          "output_type": "stream",
          "name": "stdout",
          "text": [
            "Model: \"sequential_5\"\n",
            "_________________________________________________________________\n",
            " Layer (type)                Output Shape              Param #   \n",
            "=================================================================\n",
            " conv2d_4 (Conv2D)           (None, 150, 150, 32)      896       \n",
            "                                                                 \n",
            " max_pooling2d (MaxPooling2D  (None, 75, 75, 32)       0         \n",
            " )                                                               \n",
            "                                                                 \n",
            " conv2d_5 (Conv2D)           (None, 72, 72, 32)        16416     \n",
            "                                                                 \n",
            " max_pooling2d_1 (MaxPooling  (None, 36, 36, 32)       0         \n",
            " 2D)                                                             \n",
            "                                                                 \n",
            " flatten (Flatten)           (None, 41472)             0         \n",
            "                                                                 \n",
            " dense (Dense)               (None, 256)               10617088  \n",
            "                                                                 \n",
            " dense_1 (Dense)             (None, 5)                 1285      \n",
            "                                                                 \n",
            "=================================================================\n",
            "Total params: 10,635,685\n",
            "Trainable params: 10,635,685\n",
            "Non-trainable params: 0\n",
            "_________________________________________________________________\n"
          ]
        }
      ]
    },
    {
      "cell_type": "markdown",
      "source": [
        "1. 입력이 (150,150,32)\n",
        "2. maxpooling 거쳐서 크기가 반으로 줄어듦을 확인\n",
        "3. padding을 valid로 지정했기 때문에 convolution을 거치면서 크기 또 줄어듦\n",
        "4. maxpooling 거쳐서 크기 반으로 줄어듦\n",
        "5. flatten 거쳐서 데이터가 1차원 형태로 변경\n",
        "6. 은닉층 구성\n",
        "7. 출력층 구성\n"
      ],
      "metadata": {
        "id": "hy4zj39zPFLn"
      }
    },
    {
      "cell_type": "code",
      "source": [
        "plot_model(model)"
      ],
      "metadata": {
        "colab": {
          "base_uri": "https://localhost:8080/",
          "height": 758
        },
        "id": "dlSVjynuPq4y",
        "outputId": "ca6ed5c9-00af-43c2-823a-264366cd7a42"
      },
      "execution_count": 11,
      "outputs": [
        {
          "output_type": "execute_result",
          "data": {
            "image/png": "[encoded data removed]",
            "text/plain": [
              "<IPython.core.display.Image object>"
            ]
          },
          "metadata": {},
          "execution_count": 11
        }
      ]
    }
  ]
}