{
 "cells": [
  {
   "cell_type": "markdown",
   "metadata": {},
   "source": [
    "# 7.4 앙상블"
   ]
  },
  {
   "cell_type": "markdown",
   "metadata": {},
   "source": [
    "앙상블 모형이란, 여러개의 모형을 결합하여 하나의 모형일때의 성능보다 더 나은 성능을 기대할 수 있는 모형을 의미힌다. \n",
    "\n",
    "$f_{ensemble}(x)=f_{1}(x)+...+f_{m}(x)$"
   ]
  },
  {
   "cell_type": "markdown",
   "metadata": {},
   "source": [
    "### 7.4.1 부스팅(Boosting)"
   ]
  },
  {
   "cell_type": "markdown",
   "metadata": {},
   "source": [
    "만들어진 $f_{1}(x)$모형이 있다고 할때, $f_{1}(x)$모형이 맞추지 못한 데이터에 대하여 이를 보완하여 $f_{2}(x)$를 생성한다. "
   ]
  },
  {
   "cell_type": "markdown",
   "metadata": {},
   "source": [
    "부스팅 모형의 대표적인 예시로는 adaboost, xgboost(gradient boost)가 있다. "
   ]
  },
  {
   "cell_type": "markdown",
   "metadata": {},
   "source": [
    "xgboost에서 각 $f_{i}(x)$들은 의사결정나무를 사용한다. "
   ]
  },
  {
   "cell_type": "markdown",
   "metadata": {},
   "source": [
    "#### 7.4.1.1분류 "
   ]
  },
  {
   "cell_type": "markdown",
   "metadata": {},
   "source": [
    "XGBoost 모형을 이용해서 유방암 데이터를 불러오자. "
   ]
  },
  {
   "cell_type": "code",
   "execution_count": 1,
   "metadata": {},
   "outputs": [],
   "source": [
    "from sklearn.datasets import load_breast_cancer\n",
    "data = load_breast_cancer()"
   ]
  },
  {
   "cell_type": "code",
   "execution_count": 2,
   "metadata": {},
   "outputs": [],
   "source": [
    "data_x = data.data\n",
    "data_y = data.target"
   ]
  },
  {
   "cell_type": "code",
   "execution_count": 3,
   "metadata": {},
   "outputs": [],
   "source": [
    "from sklearn.model_selection import train_test_split\n",
    "from sklearn.preprocessing import MinMaxScaler "
   ]
  },
  {
   "cell_type": "code",
   "execution_count": 4,
   "metadata": {},
   "outputs": [],
   "source": [
    "train_x,test_x,train_y,test_y = train_test_split(data_x,data_y,random_state=2020)"
   ]
  },
  {
   "cell_type": "code",
   "execution_count": 5,
   "metadata": {},
   "outputs": [],
   "source": [
    "minmax = MinMaxScaler()\n",
    "minmax.fit(train_x)\n",
    "\n",
    "train_x_minmax = minmax.transform(train_x)\n",
    "test_x_minmax = minmax.transform(test_x)"
   ]
  },
  {
   "cell_type": "code",
   "execution_count": 7,
   "metadata": {
    "scrolled": false
   },
   "outputs": [],
   "source": [
    "#pip install xgboost"
   ]
  },
  {
   "cell_type": "code",
   "execution_count": 6,
   "metadata": {},
   "outputs": [],
   "source": [
    "import xgboost"
   ]
  },
  {
   "cell_type": "code",
   "execution_count": 9,
   "metadata": {},
   "outputs": [
    {
     "data": {
      "text/plain": [
       "XGBRegressor(base_score=None, booster=None, callbacks=None,\n",
       "             colsample_bylevel=None, colsample_bynode=None,\n",
       "             colsample_bytree=None, early_stopping_rounds=None,\n",
       "             enable_categorical=False, eval_metric=None, feature_types=None,\n",
       "             gamma=None, gpu_id=None, grow_policy=None, importance_type=None,\n",
       "             interaction_constraints=None, learning_rate=0.08, max_bin=None,\n",
       "             max_cat_threshold=None, max_cat_to_onehot=None,\n",
       "             max_delta_step=None, max_depth=7, max_leaves=None,\n",
       "             min_child_weight=None, missing=nan, monotone_constraints=None,\n",
       "             n_estimators=100, n_jobs=None, num_parallel_tree=None,\n",
       "             predictor=None, random_state=None, ...)"
      ]
     },
     "execution_count": 9,
     "metadata": {},
     "output_type": "execute_result"
    }
   ],
   "source": [
    "model = xgboost.XGBRegressor(n_estimators=100, learning_rate=0.08, max_depth=7)\n",
    "model"
   ]
  },
  {
   "cell_type": "markdown",
   "metadata": {},
   "source": [
    "위에서 n_estimators 는 결합하는 모형의 개수, learning_rate는 학습속도, max_depth는 의사결정나무들의 최대 깊이를 의미한다.\n",
    "\n",
    "위의 변수들은 초매개변수이다."
   ]
  },
  {
   "cell_type": "code",
   "execution_count": 10,
   "metadata": {
    "scrolled": true
   },
   "outputs": [
    {
     "data": {
      "text/plain": [
       "XGBRegressor(base_score=0.5, booster='gbtree', callbacks=None,\n",
       "             colsample_bylevel=1, colsample_bynode=1, colsample_bytree=1,\n",
       "             early_stopping_rounds=None, enable_categorical=False,\n",
       "             eval_metric=None, feature_types=None, gamma=0, gpu_id=-1,\n",
       "             grow_policy='depthwise', importance_type=None,\n",
       "             interaction_constraints='', learning_rate=0.08, max_bin=256,\n",
       "             max_cat_threshold=64, max_cat_to_onehot=4, max_delta_step=0,\n",
       "             max_depth=7, max_leaves=0, min_child_weight=1, missing=nan,\n",
       "             monotone_constraints='()', n_estimators=100, n_jobs=0,\n",
       "             num_parallel_tree=1, predictor='auto', random_state=0, ...)"
      ]
     },
     "execution_count": 10,
     "metadata": {},
     "output_type": "execute_result"
    }
   ],
   "source": [
    "model.fit(train_x_minmax,train_y)"
   ]
  },
  {
   "cell_type": "markdown",
   "metadata": {},
   "source": [
    "이번에는 예측을 해보자."
   ]
  },
  {
   "cell_type": "code",
   "execution_count": 11,
   "metadata": {
    "scrolled": true
   },
   "outputs": [
    {
     "data": {
      "text/plain": [
       "array([ 4.82969117e-05,  9.85928237e-01,  1.00114655e+00, -4.60418414e-06,\n",
       "        1.00356197e+00,  1.00012338e+00,  4.82969117e-05,  2.63679447e-03,\n",
       "        3.30665280e-05,  3.30665280e-05,  9.99653578e-01,  1.00550377e+00,\n",
       "        7.43162483e-02,  1.00262833e+00,  9.99873102e-01,  9.99985874e-01,\n",
       "        1.00035703e+00,  1.00927198e+00,  1.09853179e-04,  2.99085025e-02,\n",
       "        3.77138989e-04,  3.89974593e-05, -1.01815513e-05,  1.00015879e+00,\n",
       "        1.00607669e+00,  9.81934965e-01,  1.83534220e-01,  9.95911539e-01,\n",
       "        1.00056601e+00,  9.07098183e-06,  1.69547200e-02,  9.25752595e-02,\n",
       "        9.90114808e-01,  8.98722470e-01,  4.22559679e-05,  9.99972939e-01,\n",
       "        4.97084766e-05,  7.03239202e-05,  9.99972939e-01,  9.65543866e-01,\n",
       "        1.36239757e-03,  5.42123355e-02,  1.00803304e+00,  9.86868560e-01,\n",
       "        8.76764716e-06,  6.75264835e-01,  1.00015879e+00,  4.82969117e-05,\n",
       "        4.82969117e-05,  9.99972939e-01,  1.09853179e-04,  9.99304831e-01,\n",
       "        1.00008154e+00, -9.68070293e-04,  8.85817790e-05,  1.00051188e+00,\n",
       "        4.82969117e-05,  9.95819986e-01,  5.32616735e-01,  5.69520707e-05,\n",
       "        3.66672218e-01,  5.13369203e-01,  9.99969065e-01,  4.82262075e-01,\n",
       "        9.99873102e-01, -1.59940924e-02,  9.99984205e-01,  1.00015879e+00,\n",
       "        4.66074258e-01,  2.02810788e-03,  9.99971986e-01,  9.99890745e-01,\n",
       "        5.16030431e-01,  1.00990880e+00,  9.98071373e-01,  1.00030673e+00,\n",
       "        9.96680915e-01,  9.99972939e-01,  8.76764716e-06,  1.00135565e+00,\n",
       "       -4.26501781e-03,  9.28465962e-01,  1.00015879e+00,  1.45162977e-02,\n",
       "        9.80194032e-01,  1.43675607e-06,  1.00030935e+00,  1.03895402e+00,\n",
       "        9.99972939e-01,  9.99739468e-01, -3.50534072e-04,  4.82969117e-05,\n",
       "       -6.97563286e-04,  9.99972939e-01,  9.07098183e-06,  9.99972939e-01,\n",
       "        9.99468267e-01, -7.90369231e-04,  3.30665280e-05,  9.99972939e-01,\n",
       "        9.99426544e-01,  1.00008380e+00,  8.90154898e-01,  5.29906750e-02,\n",
       "        9.99972939e-01,  9.99972939e-01,  1.00363135e+00,  1.00146556e+00,\n",
       "        9.52444911e-01,  4.82969117e-05,  4.10627254e-04, -1.11213536e-04,\n",
       "        3.77138989e-04,  9.99972939e-01,  1.98243447e-02,  4.82969117e-05,\n",
       "        1.00000644e+00,  1.00054300e+00,  9.99969065e-01,  1.00089943e+00,\n",
       "        9.99980688e-01,  1.00609326e+00,  1.43075665e-03,  9.97674584e-01,\n",
       "        9.99971986e-01,  9.99763429e-01,  4.82969117e-05,  1.00051188e+00,\n",
       "        7.03239202e-05, -3.80464667e-03,  8.76764716e-06,  4.82969117e-05,\n",
       "        9.86324489e-01,  1.00224531e+00,  9.99957025e-01,  2.72670331e-06,\n",
       "        3.30665280e-05,  4.38547274e-03,  1.00093198e+00,  4.82969117e-05,\n",
       "        9.75014150e-01,  1.00162590e+00,  1.61259770e-02], dtype=float32)"
      ]
     },
     "execution_count": 11,
     "metadata": {},
     "output_type": "execute_result"
    }
   ],
   "source": [
    "model.predict(test_x_minmax)"
   ]
  },
  {
   "cell_type": "markdown",
   "metadata": {},
   "source": [
    "분류모형을 학습했지만, preddict 결과값은 수치형이 나왔다.\n",
    "\n",
    "그 이유는, xgboost는 class에 대한 확률을 예측값으로 반환하기 때문이다.\n",
    "\n",
    "따라서, 예측된 class는 다음과 같다. "
   ]
  },
  {
   "cell_type": "code",
   "execution_count": 12,
   "metadata": {},
   "outputs": [],
   "source": [
    "pred_class = []\n",
    "result = model.predict(test_x_minmax) \n",
    "for i in range(0,len(test_x)):\n",
    "    if result[i] > 0.5:\n",
    "        pred_class.append(1)\n",
    "    else:\n",
    "        pred_class.append(0)"
   ]
  },
  {
   "cell_type": "markdown",
   "metadata": {},
   "source": [
    "이번에는 검증데이터에 대한 정확도를 구해보자. "
   ]
  },
  {
   "cell_type": "code",
   "execution_count": 13,
   "metadata": {
    "scrolled": true
   },
   "outputs": [
    {
     "data": {
      "text/plain": [
       "0.8587722925212702"
      ]
     },
     "execution_count": 13,
     "metadata": {},
     "output_type": "execute_result"
    }
   ],
   "source": [
    "model.score(test_x_minmax,test_y)"
   ]
  },
  {
   "cell_type": "markdown",
   "metadata": {},
   "source": [
    "#### 문제7.8\n",
    "Adaboost를 이용해서 유방암 데이터를 학습해라. (구글링 해서 패키지 검색)"
   ]
  },
  {
   "cell_type": "code",
   "execution_count": 18,
   "metadata": {},
   "outputs": [
    {
     "data": {
      "text/plain": [
       "AdaBoostClassifier()"
      ]
     },
     "execution_count": 18,
     "metadata": {},
     "output_type": "execute_result"
    }
   ],
   "source": [
    "from sklearn.ensemble import AdaBoostClassifier\n",
    "\n",
    "model = AdaBoostClassifier()\n",
    "model.fit(train_x_minmax, train_y)"
   ]
  },
  {
   "cell_type": "markdown",
   "metadata": {},
   "source": [
    "#### 문제7.9\n",
    "\n",
    "Boston house 데이터를 이용해서 xgboost 회귀모형을 학습해라.\n",
    "\n",
    "단, xgboost 회귀모형은 분류모형과 같은 xgboost.XGBRegressor(n_estimators=100, learning_rate=0.08, max_depth=7) 코드를 사용한다. "
   ]
  },
  {
   "cell_type": "code",
   "execution_count": 21,
   "metadata": {},
   "outputs": [],
   "source": [
    "from sklearn.datasets import load_boston\n",
    "\n",
    "data = load_boston()\n",
    "data_x = data.data\n",
    "data_y = data.target"
   ]
  },
  {
   "cell_type": "code",
   "execution_count": 56,
   "metadata": {},
   "outputs": [],
   "source": [
    "from sklearn.model_selection import train_test_split\n",
    "\n",
    "train_x, test_x, train_y, test_y = train_test_split(data_x, data_y)"
   ]
  },
  {
   "cell_type": "code",
   "execution_count": 57,
   "metadata": {},
   "outputs": [],
   "source": [
    "from sklearn.preprocessing import MinMaxScaler\n",
    "\n",
    "minmax = MinMaxScaler()\n",
    "minmax.fit(train_x)\n",
    "\n",
    "train_x_minmax = minmax.transform(train_x)\n",
    "test_x_minmax = minmax.transform(test_x)"
   ]
  },
  {
   "cell_type": "code",
   "execution_count": 58,
   "metadata": {},
   "outputs": [
    {
     "data": {
      "text/plain": [
       "XGBRegressor(base_score=0.5, booster='gbtree', callbacks=None,\n",
       "             colsample_bylevel=1, colsample_bynode=1, colsample_bytree=1,\n",
       "             early_stopping_rounds=None, enable_categorical=False,\n",
       "             eval_metric=None, feature_types=None, gamma=0, gpu_id=-1,\n",
       "             grow_policy='depthwise', importance_type=None,\n",
       "             interaction_constraints='', learning_rate=0.08, max_bin=256,\n",
       "             max_cat_threshold=64, max_cat_to_onehot=4, max_delta_step=0,\n",
       "             max_depth=7, max_leaves=0, min_child_weight=1, missing=nan,\n",
       "             monotone_constraints='()', n_estimators=100, n_jobs=0,\n",
       "             num_parallel_tree=1, predictor='auto', random_state=0, ...)"
      ]
     },
     "execution_count": 58,
     "metadata": {},
     "output_type": "execute_result"
    }
   ],
   "source": [
    "import xgboost\n",
    "\n",
    "model =  xgboost.XGBRegressor(n_estimators=100, learning_rate=0.08, max_depth=7)\n",
    "model.fit(train_x, train_y)"
   ]
  },
  {
   "cell_type": "code",
   "execution_count": 61,
   "metadata": {},
   "outputs": [
    {
     "data": {
      "text/plain": [
       "0.9985125725265611"
      ]
     },
     "execution_count": 61,
     "metadata": {},
     "output_type": "execute_result"
    }
   ],
   "source": [
    "model.score(train_x, train_y)"
   ]
  },
  {
   "cell_type": "markdown",
   "metadata": {},
   "source": [
    "### 7.4.2 배깅(Bagging)"
   ]
  },
  {
   "cell_type": "markdown",
   "metadata": {},
   "source": [
    "배깅은 주어진 데이터를 복원추출을 이용해서 생성된 데이터로 학습된 여러개의 모형으로 앙상블 모형을 만드는 방법이다. "
   ]
  },
  {
   "cell_type": "markdown",
   "metadata": {},
   "source": [
    "#### 7.4.2.1 분류"
   ]
  },
  {
   "cell_type": "code",
   "execution_count": 62,
   "metadata": {},
   "outputs": [],
   "source": [
    "from sklearn.datasets import load_breast_cancer\n",
    "data = load_breast_cancer()"
   ]
  },
  {
   "cell_type": "code",
   "execution_count": 63,
   "metadata": {},
   "outputs": [],
   "source": [
    "data_x = data.data\n",
    "data_y = data.target"
   ]
  },
  {
   "cell_type": "code",
   "execution_count": 69,
   "metadata": {},
   "outputs": [],
   "source": [
    "train_x, test_x, train_y, test_y = train_test_split(data_x, data_y)"
   ]
  },
  {
   "cell_type": "code",
   "execution_count": 70,
   "metadata": {},
   "outputs": [],
   "source": [
    "minmax = MinMaxScaler()\n",
    "minmax.fit(train_x)\n",
    "\n",
    "train_x_minmax = minmax.transform(train_x)\n",
    "test_x_minmax = minmax.transform(test_x)"
   ]
  },
  {
   "cell_type": "markdown",
   "metadata": {},
   "source": [
    "모형을 만들어보자. "
   ]
  },
  {
   "cell_type": "code",
   "execution_count": 71,
   "metadata": {},
   "outputs": [],
   "source": [
    "from sklearn.ensemble import BaggingClassifier"
   ]
  },
  {
   "cell_type": "code",
   "execution_count": 72,
   "metadata": {},
   "outputs": [],
   "source": [
    "model = BaggingClassifier(n_estimators=100)"
   ]
  },
  {
   "cell_type": "code",
   "execution_count": 73,
   "metadata": {},
   "outputs": [
    {
     "data": {
      "text/plain": [
       "BaggingClassifier(n_estimators=100)"
      ]
     },
     "execution_count": 73,
     "metadata": {},
     "output_type": "execute_result"
    }
   ],
   "source": [
    "model.fit(train_x_minmax,train_y)"
   ]
  },
  {
   "cell_type": "code",
   "execution_count": 74,
   "metadata": {},
   "outputs": [
    {
     "data": {
      "text/plain": [
       "array([1, 0, 1, 0, 1, 1, 1, 1, 0, 1, 1, 1, 0, 1, 1, 0, 0, 1, 1, 0, 1, 0,\n",
       "       1, 1, 1, 0, 1, 1, 1, 1, 1, 0, 1, 1, 1, 0, 1, 1, 0, 0, 1, 1, 1, 1,\n",
       "       1, 0, 0, 0, 1, 0, 1, 1, 1, 0, 1, 1, 1, 0, 0, 0, 0, 1, 0, 0, 1, 1,\n",
       "       1, 0, 0, 0, 1, 1, 1, 1, 1, 1, 0, 0, 0, 1, 0, 1, 0, 1, 0, 1, 1, 1,\n",
       "       1, 1, 0, 1, 1, 1, 0, 0, 0, 1, 0, 1, 0, 0, 0, 1, 0, 1, 1, 1, 0, 1,\n",
       "       0, 1, 0, 1, 1, 1, 1, 0, 0, 1, 1, 0, 1, 1, 1, 1, 0, 0, 1, 0, 0, 0,\n",
       "       1, 1, 1, 0, 1, 1, 1, 1, 1, 0, 1])"
      ]
     },
     "execution_count": 74,
     "metadata": {},
     "output_type": "execute_result"
    }
   ],
   "source": [
    "model.predict(test_x_minmax)"
   ]
  },
  {
   "cell_type": "code",
   "execution_count": 75,
   "metadata": {},
   "outputs": [
    {
     "data": {
      "text/plain": [
       "0.958041958041958"
      ]
     },
     "execution_count": 75,
     "metadata": {},
     "output_type": "execute_result"
    }
   ],
   "source": [
    "model.score(test_x_minmax,test_y)"
   ]
  },
  {
   "cell_type": "markdown",
   "metadata": {},
   "source": [
    "#### 문제7.10\n",
    "\n",
    "from sklearn.ensemble import BaggingRegressor 모형을 이용해서 Boston house 데이터에 대하여 bagging 모형을 학습해라. "
   ]
  },
  {
   "cell_type": "code",
   "execution_count": 77,
   "metadata": {},
   "outputs": [],
   "source": [
    "from sklearn.datasets import load_boston\n",
    "data= load_boston()"
   ]
  },
  {
   "cell_type": "code",
   "execution_count": 78,
   "metadata": {},
   "outputs": [],
   "source": [
    "data.x = data.data\n",
    "data.y = data.target"
   ]
  },
  {
   "cell_type": "code",
   "execution_count": 79,
   "metadata": {},
   "outputs": [],
   "source": [
    "train_x, test_x, train_y, test_y = train_test_split(data.x, data.y)"
   ]
  },
  {
   "cell_type": "code",
   "execution_count": 80,
   "metadata": {},
   "outputs": [],
   "source": [
    "minmax = MinMaxScaler()\n",
    "minmax.fit(train_x)\n",
    "\n",
    "train_x_minmax = minmax.transform(train_x)\n",
    "test_x_minmax = minmax.transform(test_x)"
   ]
  },
  {
   "cell_type": "code",
   "execution_count": 81,
   "metadata": {},
   "outputs": [],
   "source": [
    "from sklearn.ensemble import BaggingRegressor \n",
    "\n",
    "bagging = BaggingRegressor()"
   ]
  },
  {
   "cell_type": "code",
   "execution_count": 82,
   "metadata": {},
   "outputs": [
    {
     "data": {
      "text/plain": [
       "BaggingRegressor()"
      ]
     },
     "execution_count": 82,
     "metadata": {},
     "output_type": "execute_result"
    }
   ],
   "source": [
    "bagging.fit(train_x_minmax, train_y)"
   ]
  },
  {
   "cell_type": "code",
   "execution_count": 87,
   "metadata": {},
   "outputs": [
    {
     "data": {
      "text/plain": [
       "0.9824720074741855"
      ]
     },
     "execution_count": 87,
     "metadata": {},
     "output_type": "execute_result"
    }
   ],
   "source": [
    "bagging.score(train_x_minmax, train_y)"
   ]
  },
  {
   "cell_type": "markdown",
   "metadata": {},
   "source": [
    "## 7.4.3 랜덤포레스트 "
   ]
  },
  {
   "cell_type": "markdown",
   "metadata": {},
   "source": [
    "배깅과 같은 방식으로 데이터를 복원추출해서 의사결정나무 모형을 생성한다.\n",
    "\n",
    "단, 의사결정나무를 생성할때 사용되는 데이터의 feature의 개수를 랜덤으로 뽑아서 사용한다."
   ]
  },
  {
   "cell_type": "markdown",
   "metadata": {},
   "source": [
    "#### 7.4.3.1 분류 "
   ]
  },
  {
   "cell_type": "markdown",
   "metadata": {},
   "source": [
    "앞에서의 breast cancer 데이터를 이용해보자. "
   ]
  },
  {
   "cell_type": "code",
   "execution_count": 88,
   "metadata": {},
   "outputs": [],
   "source": [
    "from sklearn.ensemble import RandomForestClassifier"
   ]
  },
  {
   "cell_type": "code",
   "execution_count": 92,
   "metadata": {},
   "outputs": [],
   "source": [
    "model = RandomForestClassifier()"
   ]
  },
  {
   "cell_type": "code",
   "execution_count": 94,
   "metadata": {},
   "outputs": [],
   "source": [
    "from sklearn.datasets import load_breast_cancer\n",
    "data = load_breast_cancer()"
   ]
  },
  {
   "cell_type": "code",
   "execution_count": 95,
   "metadata": {},
   "outputs": [],
   "source": [
    "data_x = data.data\n",
    "data_y = data.target\n",
    "\n",
    "train_x, test_x, train_y, test_y = train_test_split(data_x, data_y)\n",
    "\n",
    "minmax = MinMaxScaler()\n",
    "minmax.fit(train_x)\n",
    "\n",
    "train_x_minmax = minmax.transform(train_x)\n",
    "test_x_minmax = minmax.transform(test_x)"
   ]
  },
  {
   "cell_type": "code",
   "execution_count": 96,
   "metadata": {},
   "outputs": [
    {
     "data": {
      "text/plain": [
       "RandomForestClassifier()"
      ]
     },
     "execution_count": 96,
     "metadata": {},
     "output_type": "execute_result"
    }
   ],
   "source": [
    "model.fit(train_x_minmax,train_y)"
   ]
  },
  {
   "cell_type": "code",
   "execution_count": 97,
   "metadata": {},
   "outputs": [
    {
     "data": {
      "text/plain": [
       "0.958041958041958"
      ]
     },
     "execution_count": 97,
     "metadata": {},
     "output_type": "execute_result"
    }
   ],
   "source": [
    "model.score(test_x_minmax,test_y)"
   ]
  },
  {
   "cell_type": "code",
   "execution_count": 98,
   "metadata": {},
   "outputs": [],
   "source": [
    "from sklearn.metrics import confusion_matrix"
   ]
  },
  {
   "cell_type": "code",
   "execution_count": 99,
   "metadata": {},
   "outputs": [
    {
     "data": {
      "text/plain": [
       "array([[57,  5],\n",
       "       [ 1, 80]], dtype=int64)"
      ]
     },
     "execution_count": 99,
     "metadata": {},
     "output_type": "execute_result"
    }
   ],
   "source": [
    "confusion_matrix(test_y,model.predict(test_x_minmax))"
   ]
  },
  {
   "cell_type": "markdown",
   "metadata": {},
   "source": [
    "#### 문제7.11  \n",
    "\n",
    "앞에서의 랜덤포레스트 모형을 다양한 초매개변수를 이용해서 학습하고, 가장 좋은 성능을 보이는 모형을 찾아라. "
   ]
  },
  {
   "cell_type": "code",
   "execution_count": 101,
   "metadata": {},
   "outputs": [
    {
     "data": {
      "text/plain": [
       "0.958041958041958"
      ]
     },
     "execution_count": 101,
     "metadata": {},
     "output_type": "execute_result"
    }
   ],
   "source": [
    "model = RandomForestClassifier(n_estimators=200)\n",
    "model.fit(train_x_minmax,train_y)\n",
    "model.score(test_x_minmax,test_y)"
   ]
  },
  {
   "cell_type": "code",
   "execution_count": 102,
   "metadata": {},
   "outputs": [
    {
     "data": {
      "text/plain": [
       "0.958041958041958"
      ]
     },
     "execution_count": 102,
     "metadata": {},
     "output_type": "execute_result"
    }
   ],
   "source": [
    "model = RandomForestClassifier(max_depth=7)\n",
    "model.fit(train_x_minmax,train_y)\n",
    "model.score(test_x_minmax,test_y)"
   ]
  },
  {
   "cell_type": "markdown",
   "metadata": {},
   "source": [
    "#### 문제7.12 \n",
    "\n",
    "RandomForestRegressor 패키지를 이용해서 Boston House 데이터를 학습해라. "
   ]
  },
  {
   "cell_type": "code",
   "execution_count": 103,
   "metadata": {},
   "outputs": [
    {
     "data": {
      "text/plain": [
       "0.8670430306650737"
      ]
     },
     "execution_count": 103,
     "metadata": {},
     "output_type": "execute_result"
    }
   ],
   "source": [
    "from sklearn.ensemble import RandomForestRegressor\n",
    "model = RandomForestRegressor()\n",
    "model.fit(train_x_minmax,train_y)\n",
    "model.score(test_x_minmax,test_y)"
   ]
  },
  {
   "cell_type": "markdown",
   "metadata": {},
   "source": [
    "# 7.5 서포트 벡터 머신(SVM)"
   ]
  },
  {
   "cell_type": "code",
   "execution_count": 104,
   "metadata": {},
   "outputs": [],
   "source": [
    "import numpy as np"
   ]
  },
  {
   "cell_type": "code",
   "execution_count": 105,
   "metadata": {},
   "outputs": [],
   "source": [
    "label_0 = np.array([[3,8],[8,9],[7,10],[7,9],[8,11]])\n",
    "label_1 = np.array([[10,6],[8,4],[9,6],[10,7],[8,6] ])"
   ]
  },
  {
   "cell_type": "code",
   "execution_count": 106,
   "metadata": {},
   "outputs": [],
   "source": [
    "x_m1 = [i for i in range(0,11)]\n",
    "y_m1 = [i-2 for i in range(0,11)]\n",
    "y_m2 = [i+1 for i in range(0,11)]\n",
    "y_m3 = [i-0.5 for i in range(0,11)]"
   ]
  },
  {
   "cell_type": "code",
   "execution_count": 107,
   "metadata": {},
   "outputs": [
    {
     "data": {
      "text/plain": [
       "[<matplotlib.lines.Line2D at 0x254ff150100>]"
      ]
     },
     "execution_count": 107,
     "metadata": {},
     "output_type": "execute_result"
    },
    {
     "data": {
      "image/png": "[encoded data removed]",
      "text/plain": [
       "<Figure size 432x288 with 1 Axes>"
      ]
     },
     "metadata": {
      "needs_background": "light"
     },
     "output_type": "display_data"
    }
   ],
   "source": [
    "import matplotlib.pyplot as plt\n",
    "plt.scatter(label_0[:,0],label_0[:,1])\n",
    "plt.scatter(label_1[:,0],label_1[:,1])\n",
    "plt.plot(x_m1,y_m1,color= \"black\")\n",
    "plt.plot(x_m1,y_m2,color= \"black\")\n",
    "plt.plot(x_m1,y_m3,color= \"red\")"
   ]
  },
  {
   "cell_type": "markdown",
   "metadata": {},
   "source": [
    "위의 상황에서 빨간색 선을 결정경계 라고 해보자. \n",
    "\n",
    "즉, 빨간색 선보다 위의 있는 데이터들은 파란색 그룹 아래 있는 데이터들은 주황색 그룹으로 분류하게 되는 경계이다.\n",
    "\n",
    "\n",
    "이때, 검은색 선과 빨간색 선사이의 거리를 마진(margin)이라고 정의하며 \n",
    "\n",
    "서포트 벡터 머신은 이러한 마진을 최대화 하는 방향으로 학습하는 모형이다.  "
   ]
  },
  {
   "cell_type": "markdown",
   "metadata": {},
   "source": [
    "#### 서포트 벡터 머신 장점과 단점 \n",
    "\n",
    "장점: 정확도가 높은 편에 속한다.\n",
    "\n",
    "단점: 모형 학습시간이 오래걸리고, 설명과 해석이 어렵다. "
   ]
  },
  {
   "cell_type": "markdown",
   "metadata": {},
   "source": [
    "#### 7.5.1 분류 "
   ]
  },
  {
   "cell_type": "code",
   "execution_count": 108,
   "metadata": {},
   "outputs": [],
   "source": [
    "from sklearn import svm"
   ]
  },
  {
   "cell_type": "code",
   "execution_count": 109,
   "metadata": {},
   "outputs": [],
   "source": [
    "model = svm.SVC(C=1,kernel = \"rbf\")"
   ]
  },
  {
   "cell_type": "markdown",
   "metadata": {},
   "source": [
    "C : 작을수록 모델이 단순해지고, 커질수록 모델이 복잡해진다.\n",
    "\n",
    "kernel : 데이터를 선형분리 가능한 고차원 공간으로 보내주는 함수들 \n",
    "    \n",
    "kernel = rbf, lienar 등이 있다. "
   ]
  },
  {
   "cell_type": "code",
   "execution_count": 110,
   "metadata": {},
   "outputs": [
    {
     "data": {
      "text/plain": [
       "SVC(C=1)"
      ]
     },
     "execution_count": 110,
     "metadata": {},
     "output_type": "execute_result"
    }
   ],
   "source": [
    "model.fit(train_x_minmax,train_y)"
   ]
  },
  {
   "cell_type": "code",
   "execution_count": 111,
   "metadata": {},
   "outputs": [
    {
     "data": {
      "text/plain": [
       "0.972027972027972"
      ]
     },
     "execution_count": 111,
     "metadata": {},
     "output_type": "execute_result"
    }
   ],
   "source": [
    "model.score(test_x_minmax,test_y)"
   ]
  },
  {
   "cell_type": "markdown",
   "metadata": {},
   "source": [
    "#### 7.5.2 회귀"
   ]
  },
  {
   "cell_type": "code",
   "execution_count": 112,
   "metadata": {},
   "outputs": [],
   "source": [
    "from sklearn import datasets"
   ]
  },
  {
   "cell_type": "code",
   "execution_count": 113,
   "metadata": {},
   "outputs": [],
   "source": [
    "data =  datasets.load_boston()\n",
    "data_x = data.data\n",
    "data_y = data.target\n",
    "train_x,test_x,train_y,test_y = train_test_split(data_x,data_y,random_state=15)"
   ]
  },
  {
   "cell_type": "code",
   "execution_count": 114,
   "metadata": {},
   "outputs": [],
   "source": [
    "minmax = MinMaxScaler()\n",
    "minmax.fit(train_x)\n",
    "\n",
    "train_x_minmax = minmax.transform(train_x)\n",
    "test_x_minmax = minmax.transform(test_x)"
   ]
  },
  {
   "cell_type": "code",
   "execution_count": 115,
   "metadata": {},
   "outputs": [
    {
     "data": {
      "text/plain": [
       "SVR()"
      ]
     },
     "execution_count": 115,
     "metadata": {},
     "output_type": "execute_result"
    }
   ],
   "source": [
    "model = svm.SVR()\n",
    "model.fit(train_x_minmax,train_y)"
   ]
  },
  {
   "cell_type": "code",
   "execution_count": 116,
   "metadata": {},
   "outputs": [
    {
     "data": {
      "text/plain": [
       "0.6120522459659947"
      ]
     },
     "execution_count": 116,
     "metadata": {},
     "output_type": "execute_result"
    }
   ],
   "source": [
    "model.score(test_x_minmax,test_y)"
   ]
  }
 ],
 "metadata": {
  "kernelspec": {
   "display_name": "Python 3",
   "language": "python",
   "name": "python3"
  },
  "language_info": {
   "codemirror_mode": {
    "name": "ipython",
    "version": 3
   },
   "file_extension": ".py",
   "mimetype": "text/x-python",
   "name": "python",
   "nbconvert_exporter": "python",
   "pygments_lexer": "ipython3",
   "version": "3.8.5"
  }
 },
 "nbformat": 4,
 "nbformat_minor": 5
}
