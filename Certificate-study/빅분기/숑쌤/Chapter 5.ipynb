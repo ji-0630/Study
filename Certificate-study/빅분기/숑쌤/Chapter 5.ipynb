{
 "cells": [
  {
   "cell_type": "markdown",
   "metadata": {},
   "source": [
    "# 5.1 기초통계량 및 빈도수 시각화"
   ]
  },
  {
   "cell_type": "markdown",
   "metadata": {},
   "source": [
    "분석할 데이터를 pandas 패키지를 이용해서 DataFrame 형태로 불러오자."
   ]
  },
  {
   "cell_type": "code",
   "execution_count": 1,
   "metadata": {},
   "outputs": [],
   "source": [
    "import pandas as pd"
   ]
  },
  {
   "cell_type": "code",
   "execution_count": null,
   "metadata": {},
   "outputs": [],
   "source": [
    "pd.read_csv(\"데이터명.csv\")"
   ]
  },
  {
   "cell_type": "code",
   "execution_count": null,
   "metadata": {},
   "outputs": [],
   "source": [
    "# 받은 데이터를 python file이 있는 폴더에 같이 저장을 한다. \n",
    "pd.read_excel(\"데이터명.xlsx\")\n",
    "pd.read_csv(\"데이터명.csv\")\n",
    "\n",
    "# 데이터가 python file이 있는 폴더에 없을때.... \n",
    "pd.read_excel(\"주소명/데이터명.xlsx\")"
   ]
  },
  {
   "cell_type": "code",
   "execution_count": 3,
   "metadata": {},
   "outputs": [],
   "source": [
    "data = pd.read_excel(\"data.xlsx\")"
   ]
  },
  {
   "cell_type": "code",
   "execution_count": 7,
   "metadata": {},
   "outputs": [
    {
     "data": {
      "text/html": [
       "<div>\n",
       "<style scoped>\n",
       "    .dataframe tbody tr th:only-of-type {\n",
       "        vertical-align: middle;\n",
       "    }\n",
       "\n",
       "    .dataframe tbody tr th {\n",
       "        vertical-align: top;\n",
       "    }\n",
       "\n",
       "    .dataframe thead th {\n",
       "        text-align: right;\n",
       "    }\n",
       "</style>\n",
       "<table border=\"1\" class=\"dataframe\">\n",
       "  <thead>\n",
       "    <tr style=\"text-align: right;\">\n",
       "      <th></th>\n",
       "      <th>성별</th>\n",
       "      <th>나이</th>\n",
       "      <th>연봉</th>\n",
       "      <th>지역</th>\n",
       "      <th>구매제품</th>\n",
       "    </tr>\n",
       "  </thead>\n",
       "  <tbody>\n",
       "    <tr>\n",
       "      <th>0</th>\n",
       "      <td>m</td>\n",
       "      <td>21</td>\n",
       "      <td>3300</td>\n",
       "      <td>서울</td>\n",
       "      <td>핸드폰케이스</td>\n",
       "    </tr>\n",
       "    <tr>\n",
       "      <th>1</th>\n",
       "      <td>f</td>\n",
       "      <td>22</td>\n",
       "      <td>5000</td>\n",
       "      <td>경기</td>\n",
       "      <td>마스크</td>\n",
       "    </tr>\n",
       "    <tr>\n",
       "      <th>2</th>\n",
       "      <td>f</td>\n",
       "      <td>25</td>\n",
       "      <td>5200</td>\n",
       "      <td>경기</td>\n",
       "      <td>마스크</td>\n",
       "    </tr>\n",
       "    <tr>\n",
       "      <th>3</th>\n",
       "      <td>f</td>\n",
       "      <td>32</td>\n",
       "      <td>2000</td>\n",
       "      <td>서울</td>\n",
       "      <td>핸드폰케이스</td>\n",
       "    </tr>\n",
       "    <tr>\n",
       "      <th>4</th>\n",
       "      <td>m</td>\n",
       "      <td>27</td>\n",
       "      <td>1800</td>\n",
       "      <td>부산</td>\n",
       "      <td>마스크</td>\n",
       "    </tr>\n",
       "  </tbody>\n",
       "</table>\n",
       "</div>"
      ],
      "text/plain": [
       "  성별  나이    연봉  지역    구매제품\n",
       "0  m  21  3300  서울  핸드폰케이스\n",
       "1  f  22  5000  경기     마스크\n",
       "2  f  25  5200  경기     마스크\n",
       "3  f  32  2000  서울  핸드폰케이스\n",
       "4  m  27  1800  부산     마스크"
      ]
     },
     "execution_count": 7,
     "metadata": {},
     "output_type": "execute_result"
    }
   ],
   "source": [
    "data.head()"
   ]
  },
  {
   "cell_type": "markdown",
   "metadata": {},
   "source": [
    "data 10개 미리보기는 다음과 같다."
   ]
  },
  {
   "cell_type": "code",
   "execution_count": 8,
   "metadata": {},
   "outputs": [
    {
     "data": {
      "text/html": [
       "<div>\n",
       "<style scoped>\n",
       "    .dataframe tbody tr th:only-of-type {\n",
       "        vertical-align: middle;\n",
       "    }\n",
       "\n",
       "    .dataframe tbody tr th {\n",
       "        vertical-align: top;\n",
       "    }\n",
       "\n",
       "    .dataframe thead th {\n",
       "        text-align: right;\n",
       "    }\n",
       "</style>\n",
       "<table border=\"1\" class=\"dataframe\">\n",
       "  <thead>\n",
       "    <tr style=\"text-align: right;\">\n",
       "      <th></th>\n",
       "      <th>성별</th>\n",
       "      <th>나이</th>\n",
       "      <th>연봉</th>\n",
       "      <th>지역</th>\n",
       "      <th>구매제품</th>\n",
       "    </tr>\n",
       "  </thead>\n",
       "  <tbody>\n",
       "    <tr>\n",
       "      <th>0</th>\n",
       "      <td>m</td>\n",
       "      <td>21</td>\n",
       "      <td>3300</td>\n",
       "      <td>서울</td>\n",
       "      <td>핸드폰케이스</td>\n",
       "    </tr>\n",
       "    <tr>\n",
       "      <th>1</th>\n",
       "      <td>f</td>\n",
       "      <td>22</td>\n",
       "      <td>5000</td>\n",
       "      <td>경기</td>\n",
       "      <td>마스크</td>\n",
       "    </tr>\n",
       "    <tr>\n",
       "      <th>2</th>\n",
       "      <td>f</td>\n",
       "      <td>25</td>\n",
       "      <td>5200</td>\n",
       "      <td>경기</td>\n",
       "      <td>마스크</td>\n",
       "    </tr>\n",
       "    <tr>\n",
       "      <th>3</th>\n",
       "      <td>f</td>\n",
       "      <td>32</td>\n",
       "      <td>2000</td>\n",
       "      <td>서울</td>\n",
       "      <td>핸드폰케이스</td>\n",
       "    </tr>\n",
       "    <tr>\n",
       "      <th>4</th>\n",
       "      <td>m</td>\n",
       "      <td>27</td>\n",
       "      <td>1800</td>\n",
       "      <td>부산</td>\n",
       "      <td>마스크</td>\n",
       "    </tr>\n",
       "    <tr>\n",
       "      <th>5</th>\n",
       "      <td>m</td>\n",
       "      <td>42</td>\n",
       "      <td>3800</td>\n",
       "      <td>전주</td>\n",
       "      <td>자동차용품</td>\n",
       "    </tr>\n",
       "    <tr>\n",
       "      <th>6</th>\n",
       "      <td>f</td>\n",
       "      <td>26</td>\n",
       "      <td>2500</td>\n",
       "      <td>부산</td>\n",
       "      <td>마스크</td>\n",
       "    </tr>\n",
       "    <tr>\n",
       "      <th>7</th>\n",
       "      <td>f</td>\n",
       "      <td>28</td>\n",
       "      <td>2400</td>\n",
       "      <td>서울</td>\n",
       "      <td>핸드폰케이스</td>\n",
       "    </tr>\n",
       "    <tr>\n",
       "      <th>8</th>\n",
       "      <td>f</td>\n",
       "      <td>27</td>\n",
       "      <td>1900</td>\n",
       "      <td>서울</td>\n",
       "      <td>핸드폰케이스</td>\n",
       "    </tr>\n",
       "    <tr>\n",
       "      <th>9</th>\n",
       "      <td>f</td>\n",
       "      <td>24</td>\n",
       "      <td>2700</td>\n",
       "      <td>경기</td>\n",
       "      <td>자동차용품</td>\n",
       "    </tr>\n",
       "  </tbody>\n",
       "</table>\n",
       "</div>"
      ],
      "text/plain": [
       "  성별  나이    연봉  지역    구매제품\n",
       "0  m  21  3300  서울  핸드폰케이스\n",
       "1  f  22  5000  경기     마스크\n",
       "2  f  25  5200  경기     마스크\n",
       "3  f  32  2000  서울  핸드폰케이스\n",
       "4  m  27  1800  부산     마스크\n",
       "5  m  42  3800  전주   자동차용품\n",
       "6  f  26  2500  부산     마스크\n",
       "7  f  28  2400  서울  핸드폰케이스\n",
       "8  f  27  1900  서울  핸드폰케이스\n",
       "9  f  24  2700  경기   자동차용품"
      ]
     },
     "execution_count": 8,
     "metadata": {},
     "output_type": "execute_result"
    }
   ],
   "source": [
    "data.head(10)"
   ]
  },
  {
   "cell_type": "markdown",
   "metadata": {},
   "source": [
    " "
   ]
  },
  {
   "cell_type": "markdown",
   "metadata": {},
   "source": [
    "### 결측값이 있는지 확인해보자. "
   ]
  },
  {
   "cell_type": "markdown",
   "metadata": {},
   "source": [
    "(1) 행 기준으로 결측값이 있는지 확인 "
   ]
  },
  {
   "cell_type": "code",
   "execution_count": 9,
   "metadata": {},
   "outputs": [
    {
     "data": {
      "text/html": [
       "<div>\n",
       "<style scoped>\n",
       "    .dataframe tbody tr th:only-of-type {\n",
       "        vertical-align: middle;\n",
       "    }\n",
       "\n",
       "    .dataframe tbody tr th {\n",
       "        vertical-align: top;\n",
       "    }\n",
       "\n",
       "    .dataframe thead th {\n",
       "        text-align: right;\n",
       "    }\n",
       "</style>\n",
       "<table border=\"1\" class=\"dataframe\">\n",
       "  <thead>\n",
       "    <tr style=\"text-align: right;\">\n",
       "      <th></th>\n",
       "      <th>성별</th>\n",
       "      <th>나이</th>\n",
       "      <th>연봉</th>\n",
       "      <th>지역</th>\n",
       "      <th>구매제품</th>\n",
       "    </tr>\n",
       "  </thead>\n",
       "  <tbody>\n",
       "    <tr>\n",
       "      <th>0</th>\n",
       "      <td>False</td>\n",
       "      <td>False</td>\n",
       "      <td>False</td>\n",
       "      <td>False</td>\n",
       "      <td>False</td>\n",
       "    </tr>\n",
       "    <tr>\n",
       "      <th>1</th>\n",
       "      <td>False</td>\n",
       "      <td>False</td>\n",
       "      <td>False</td>\n",
       "      <td>False</td>\n",
       "      <td>False</td>\n",
       "    </tr>\n",
       "    <tr>\n",
       "      <th>2</th>\n",
       "      <td>False</td>\n",
       "      <td>False</td>\n",
       "      <td>False</td>\n",
       "      <td>False</td>\n",
       "      <td>False</td>\n",
       "    </tr>\n",
       "    <tr>\n",
       "      <th>3</th>\n",
       "      <td>False</td>\n",
       "      <td>False</td>\n",
       "      <td>False</td>\n",
       "      <td>False</td>\n",
       "      <td>False</td>\n",
       "    </tr>\n",
       "    <tr>\n",
       "      <th>4</th>\n",
       "      <td>False</td>\n",
       "      <td>False</td>\n",
       "      <td>False</td>\n",
       "      <td>False</td>\n",
       "      <td>False</td>\n",
       "    </tr>\n",
       "    <tr>\n",
       "      <th>...</th>\n",
       "      <td>...</td>\n",
       "      <td>...</td>\n",
       "      <td>...</td>\n",
       "      <td>...</td>\n",
       "      <td>...</td>\n",
       "    </tr>\n",
       "    <tr>\n",
       "      <th>194</th>\n",
       "      <td>False</td>\n",
       "      <td>False</td>\n",
       "      <td>False</td>\n",
       "      <td>False</td>\n",
       "      <td>False</td>\n",
       "    </tr>\n",
       "    <tr>\n",
       "      <th>195</th>\n",
       "      <td>False</td>\n",
       "      <td>False</td>\n",
       "      <td>False</td>\n",
       "      <td>False</td>\n",
       "      <td>False</td>\n",
       "    </tr>\n",
       "    <tr>\n",
       "      <th>196</th>\n",
       "      <td>False</td>\n",
       "      <td>False</td>\n",
       "      <td>False</td>\n",
       "      <td>False</td>\n",
       "      <td>False</td>\n",
       "    </tr>\n",
       "    <tr>\n",
       "      <th>197</th>\n",
       "      <td>False</td>\n",
       "      <td>False</td>\n",
       "      <td>False</td>\n",
       "      <td>False</td>\n",
       "      <td>False</td>\n",
       "    </tr>\n",
       "    <tr>\n",
       "      <th>198</th>\n",
       "      <td>False</td>\n",
       "      <td>False</td>\n",
       "      <td>False</td>\n",
       "      <td>False</td>\n",
       "      <td>False</td>\n",
       "    </tr>\n",
       "  </tbody>\n",
       "</table>\n",
       "<p>199 rows × 5 columns</p>\n",
       "</div>"
      ],
      "text/plain": [
       "        성별     나이     연봉     지역   구매제품\n",
       "0    False  False  False  False  False\n",
       "1    False  False  False  False  False\n",
       "2    False  False  False  False  False\n",
       "3    False  False  False  False  False\n",
       "4    False  False  False  False  False\n",
       "..     ...    ...    ...    ...    ...\n",
       "194  False  False  False  False  False\n",
       "195  False  False  False  False  False\n",
       "196  False  False  False  False  False\n",
       "197  False  False  False  False  False\n",
       "198  False  False  False  False  False\n",
       "\n",
       "[199 rows x 5 columns]"
      ]
     },
     "execution_count": 9,
     "metadata": {},
     "output_type": "execute_result"
    }
   ],
   "source": [
    "data.isnull()"
   ]
  },
  {
   "cell_type": "markdown",
   "metadata": {},
   "source": [
    " "
   ]
  },
  {
   "cell_type": "markdown",
   "metadata": {},
   "source": [
    "아래코드에서 bool type data인 False 0 ,True 는 1로 계산되는 것을 이용하여\n",
    "\n",
    "다음과 같이 각 행에 True가 있는지 확인 할 수 있다."
   ]
  },
  {
   "cell_type": "code",
   "execution_count": 10,
   "metadata": {},
   "outputs": [
    {
     "data": {
      "text/plain": [
       "0      0\n",
       "1      0\n",
       "2      0\n",
       "3      0\n",
       "4      0\n",
       "      ..\n",
       "194    0\n",
       "195    0\n",
       "196    0\n",
       "197    0\n",
       "198    0\n",
       "Length: 199, dtype: int64"
      ]
     },
     "execution_count": 10,
     "metadata": {},
     "output_type": "execute_result"
    }
   ],
   "source": [
    "data.isnull().sum(1)"
   ]
  },
  {
   "cell_type": "markdown",
   "metadata": {},
   "source": [
    " "
   ]
  },
  {
   "cell_type": "markdown",
   "metadata": {},
   "source": [
    "(2) 열(column)기준으로 결측값이 있는지 확인"
   ]
  },
  {
   "cell_type": "code",
   "execution_count": 11,
   "metadata": {},
   "outputs": [
    {
     "data": {
      "text/plain": [
       "성별      0\n",
       "나이      0\n",
       "연봉      0\n",
       "지역      0\n",
       "구매제품    0\n",
       "dtype: int64"
      ]
     },
     "execution_count": 11,
     "metadata": {},
     "output_type": "execute_result"
    }
   ],
   "source": [
    "data.isnull().sum(0)"
   ]
  },
  {
   "cell_type": "markdown",
   "metadata": {},
   "source": [
    " "
   ]
  },
  {
   "cell_type": "markdown",
   "metadata": {},
   "source": [
    "(3) 전체 데이터에서 결측값이 있는지 확인"
   ]
  },
  {
   "cell_type": "code",
   "execution_count": 13,
   "metadata": {},
   "outputs": [
    {
     "data": {
      "text/plain": [
       "0"
      ]
     },
     "execution_count": 13,
     "metadata": {},
     "output_type": "execute_result"
    }
   ],
   "source": [
    "data.isnull().sum(1).sum()"
   ]
  },
  {
   "cell_type": "code",
   "execution_count": 16,
   "metadata": {},
   "outputs": [
    {
     "data": {
      "text/html": [
       "<div>\n",
       "<style scoped>\n",
       "    .dataframe tbody tr th:only-of-type {\n",
       "        vertical-align: middle;\n",
       "    }\n",
       "\n",
       "    .dataframe tbody tr th {\n",
       "        vertical-align: top;\n",
       "    }\n",
       "\n",
       "    .dataframe thead th {\n",
       "        text-align: right;\n",
       "    }\n",
       "</style>\n",
       "<table border=\"1\" class=\"dataframe\">\n",
       "  <thead>\n",
       "    <tr style=\"text-align: right;\">\n",
       "      <th></th>\n",
       "      <th>성별</th>\n",
       "      <th>나이</th>\n",
       "      <th>연봉</th>\n",
       "      <th>지역</th>\n",
       "      <th>구매제품</th>\n",
       "    </tr>\n",
       "  </thead>\n",
       "  <tbody>\n",
       "    <tr>\n",
       "      <th>0</th>\n",
       "      <td>m</td>\n",
       "      <td>21</td>\n",
       "      <td>3300</td>\n",
       "      <td>서울</td>\n",
       "      <td>핸드폰케이스</td>\n",
       "    </tr>\n",
       "    <tr>\n",
       "      <th>1</th>\n",
       "      <td>f</td>\n",
       "      <td>22</td>\n",
       "      <td>5000</td>\n",
       "      <td>경기</td>\n",
       "      <td>마스크</td>\n",
       "    </tr>\n",
       "    <tr>\n",
       "      <th>2</th>\n",
       "      <td>f</td>\n",
       "      <td>25</td>\n",
       "      <td>5200</td>\n",
       "      <td>경기</td>\n",
       "      <td>마스크</td>\n",
       "    </tr>\n",
       "    <tr>\n",
       "      <th>3</th>\n",
       "      <td>f</td>\n",
       "      <td>32</td>\n",
       "      <td>2000</td>\n",
       "      <td>서울</td>\n",
       "      <td>핸드폰케이스</td>\n",
       "    </tr>\n",
       "    <tr>\n",
       "      <th>4</th>\n",
       "      <td>m</td>\n",
       "      <td>27</td>\n",
       "      <td>1800</td>\n",
       "      <td>부산</td>\n",
       "      <td>마스크</td>\n",
       "    </tr>\n",
       "    <tr>\n",
       "      <th>...</th>\n",
       "      <td>...</td>\n",
       "      <td>...</td>\n",
       "      <td>...</td>\n",
       "      <td>...</td>\n",
       "      <td>...</td>\n",
       "    </tr>\n",
       "    <tr>\n",
       "      <th>194</th>\n",
       "      <td>m</td>\n",
       "      <td>28</td>\n",
       "      <td>3400</td>\n",
       "      <td>경기</td>\n",
       "      <td>노트북</td>\n",
       "    </tr>\n",
       "    <tr>\n",
       "      <th>195</th>\n",
       "      <td>f</td>\n",
       "      <td>28</td>\n",
       "      <td>2800</td>\n",
       "      <td>서울</td>\n",
       "      <td>화장품</td>\n",
       "    </tr>\n",
       "    <tr>\n",
       "      <th>196</th>\n",
       "      <td>m</td>\n",
       "      <td>27</td>\n",
       "      <td>3500</td>\n",
       "      <td>경기</td>\n",
       "      <td>화장품</td>\n",
       "    </tr>\n",
       "    <tr>\n",
       "      <th>197</th>\n",
       "      <td>f</td>\n",
       "      <td>23</td>\n",
       "      <td>1900</td>\n",
       "      <td>경기</td>\n",
       "      <td>노트북</td>\n",
       "    </tr>\n",
       "    <tr>\n",
       "      <th>198</th>\n",
       "      <td>m</td>\n",
       "      <td>29</td>\n",
       "      <td>2800</td>\n",
       "      <td>서울</td>\n",
       "      <td>핸드폰케이스</td>\n",
       "    </tr>\n",
       "  </tbody>\n",
       "</table>\n",
       "<p>199 rows × 5 columns</p>\n",
       "</div>"
      ],
      "text/plain": [
       "    성별  나이    연봉  지역    구매제품\n",
       "0    m  21  3300  서울  핸드폰케이스\n",
       "1    f  22  5000  경기     마스크\n",
       "2    f  25  5200  경기     마스크\n",
       "3    f  32  2000  서울  핸드폰케이스\n",
       "4    m  27  1800  부산     마스크\n",
       "..  ..  ..   ...  ..     ...\n",
       "194  m  28  3400  경기     노트북\n",
       "195  f  28  2800  서울     화장품\n",
       "196  m  27  3500  경기     화장품\n",
       "197  f  23  1900  경기     노트북\n",
       "198  m  29  2800  서울  핸드폰케이스\n",
       "\n",
       "[199 rows x 5 columns]"
      ]
     },
     "execution_count": 16,
     "metadata": {},
     "output_type": "execute_result"
    }
   ],
   "source": [
    "#결측값이 있을대 결측값을 0으로 대체하는 함수 \n",
    "data.fillna(0)"
   ]
  },
  {
   "cell_type": "markdown",
   "metadata": {},
   "source": [
    " "
   ]
  },
  {
   "cell_type": "markdown",
   "metadata": {},
   "source": [
    "남녀 고객수와 성비를 알아보자."
   ]
  },
  {
   "cell_type": "code",
   "execution_count": 17,
   "metadata": {},
   "outputs": [
    {
     "data": {
      "text/html": [
       "<div>\n",
       "<style scoped>\n",
       "    .dataframe tbody tr th:only-of-type {\n",
       "        vertical-align: middle;\n",
       "    }\n",
       "\n",
       "    .dataframe tbody tr th {\n",
       "        vertical-align: top;\n",
       "    }\n",
       "\n",
       "    .dataframe thead th {\n",
       "        text-align: right;\n",
       "    }\n",
       "</style>\n",
       "<table border=\"1\" class=\"dataframe\">\n",
       "  <thead>\n",
       "    <tr style=\"text-align: right;\">\n",
       "      <th></th>\n",
       "      <th>성별</th>\n",
       "      <th>나이</th>\n",
       "      <th>연봉</th>\n",
       "      <th>지역</th>\n",
       "      <th>구매제품</th>\n",
       "    </tr>\n",
       "  </thead>\n",
       "  <tbody>\n",
       "    <tr>\n",
       "      <th>0</th>\n",
       "      <td>m</td>\n",
       "      <td>21</td>\n",
       "      <td>3300</td>\n",
       "      <td>서울</td>\n",
       "      <td>핸드폰케이스</td>\n",
       "    </tr>\n",
       "    <tr>\n",
       "      <th>1</th>\n",
       "      <td>f</td>\n",
       "      <td>22</td>\n",
       "      <td>5000</td>\n",
       "      <td>경기</td>\n",
       "      <td>마스크</td>\n",
       "    </tr>\n",
       "    <tr>\n",
       "      <th>2</th>\n",
       "      <td>f</td>\n",
       "      <td>25</td>\n",
       "      <td>5200</td>\n",
       "      <td>경기</td>\n",
       "      <td>마스크</td>\n",
       "    </tr>\n",
       "    <tr>\n",
       "      <th>3</th>\n",
       "      <td>f</td>\n",
       "      <td>32</td>\n",
       "      <td>2000</td>\n",
       "      <td>서울</td>\n",
       "      <td>핸드폰케이스</td>\n",
       "    </tr>\n",
       "    <tr>\n",
       "      <th>4</th>\n",
       "      <td>m</td>\n",
       "      <td>27</td>\n",
       "      <td>1800</td>\n",
       "      <td>부산</td>\n",
       "      <td>마스크</td>\n",
       "    </tr>\n",
       "  </tbody>\n",
       "</table>\n",
       "</div>"
      ],
      "text/plain": [
       "  성별  나이    연봉  지역    구매제품\n",
       "0  m  21  3300  서울  핸드폰케이스\n",
       "1  f  22  5000  경기     마스크\n",
       "2  f  25  5200  경기     마스크\n",
       "3  f  32  2000  서울  핸드폰케이스\n",
       "4  m  27  1800  부산     마스크"
      ]
     },
     "execution_count": 17,
     "metadata": {},
     "output_type": "execute_result"
    }
   ],
   "source": [
    "data.head()"
   ]
  },
  {
   "cell_type": "code",
   "execution_count": 18,
   "metadata": {},
   "outputs": [],
   "source": [
    "gender = data[\"성별\"]"
   ]
  },
  {
   "cell_type": "code",
   "execution_count": 20,
   "metadata": {},
   "outputs": [],
   "source": [
    "gender = data[[\"성별\"]]        #data.iloc[:,0]"
   ]
  },
  {
   "cell_type": "code",
   "execution_count": 21,
   "metadata": {},
   "outputs": [
    {
     "data": {
      "text/html": [
       "<div>\n",
       "<style scoped>\n",
       "    .dataframe tbody tr th:only-of-type {\n",
       "        vertical-align: middle;\n",
       "    }\n",
       "\n",
       "    .dataframe tbody tr th {\n",
       "        vertical-align: top;\n",
       "    }\n",
       "\n",
       "    .dataframe thead th {\n",
       "        text-align: right;\n",
       "    }\n",
       "</style>\n",
       "<table border=\"1\" class=\"dataframe\">\n",
       "  <thead>\n",
       "    <tr style=\"text-align: right;\">\n",
       "      <th></th>\n",
       "      <th>성별</th>\n",
       "    </tr>\n",
       "  </thead>\n",
       "  <tbody>\n",
       "    <tr>\n",
       "      <th>0</th>\n",
       "      <td>m</td>\n",
       "    </tr>\n",
       "    <tr>\n",
       "      <th>1</th>\n",
       "      <td>f</td>\n",
       "    </tr>\n",
       "    <tr>\n",
       "      <th>2</th>\n",
       "      <td>f</td>\n",
       "    </tr>\n",
       "    <tr>\n",
       "      <th>3</th>\n",
       "      <td>f</td>\n",
       "    </tr>\n",
       "    <tr>\n",
       "      <th>4</th>\n",
       "      <td>m</td>\n",
       "    </tr>\n",
       "  </tbody>\n",
       "</table>\n",
       "</div>"
      ],
      "text/plain": [
       "  성별\n",
       "0  m\n",
       "1  f\n",
       "2  f\n",
       "3  f\n",
       "4  m"
      ]
     },
     "execution_count": 21,
     "metadata": {},
     "output_type": "execute_result"
    }
   ],
   "source": [
    "gender.head()"
   ]
  },
  {
   "cell_type": "code",
   "execution_count": 22,
   "metadata": {},
   "outputs": [
    {
     "data": {
      "text/plain": [
       "성별\n",
       "m     101\n",
       "f      98\n",
       "dtype: int64"
      ]
     },
     "execution_count": 22,
     "metadata": {},
     "output_type": "execute_result"
    }
   ],
   "source": [
    "gender.value_counts()"
   ]
  },
  {
   "cell_type": "code",
   "execution_count": 23,
   "metadata": {},
   "outputs": [
    {
     "name": "stdout",
     "output_type": "stream",
     "text": [
      "남자비율 : 0.507537688442211, 여자비율 : 0.49246231155778897\n"
     ]
    }
   ],
   "source": [
    "male_ratio = gender.value_counts()[0]/ len(data)\n",
    "female_ratio = gender.value_counts()[1]/ len(data)\n",
    "\n",
    "print(f\"남자비율 : {male_ratio}, 여자비율 : {female_ratio}\")"
   ]
  },
  {
   "cell_type": "markdown",
   "metadata": {},
   "source": [
    " "
   ]
  },
  {
   "cell_type": "markdown",
   "metadata": {},
   "source": [
    "고객들의 거주지 비율을 알아보자. "
   ]
  },
  {
   "cell_type": "code",
   "execution_count": 33,
   "metadata": {},
   "outputs": [
    {
     "data": {
      "text/plain": [
       "서울    90\n",
       "경기    63\n",
       "부산    26\n",
       "제주     6\n",
       "강원     5\n",
       "세종     4\n",
       "울산     3\n",
       "전주     2\n",
       "Name: 지역, dtype: int64"
      ]
     },
     "execution_count": 33,
     "metadata": {},
     "output_type": "execute_result"
    }
   ],
   "source": [
    "residence = data[\"지역\"]\n",
    "residence.value_counts()"
   ]
  },
  {
   "cell_type": "code",
   "execution_count": 35,
   "metadata": {},
   "outputs": [
    {
     "name": "stdout",
     "output_type": "stream",
     "text": [
      "서울 : 0.45226130653266333, 경기 : 0.3165829145728643, 부산 : 0.1306532663316583, 제주 : 0.03015075376884422 , 강원 : 0.02512562814070352 , 세종 : 0.020100502512562814 \n"
     ]
    }
   ],
   "source": [
    "se_ratio = residence.value_counts()[0]/ len(data)\n",
    "gy_ratio = residence.value_counts()[1]/ len(data)\n",
    "bs_ratio = residence.value_counts()[2]/ len(data)\n",
    "j_ratio = residence.value_counts()[3]/ len(data)\n",
    "k_ratio = residence.value_counts()[4]/ len(data)\n",
    "sj_ratio = residence.value_counts()[5]/ len(data)\n",
    "ul_ratio = residence.value_counts()[6]/ len(data)\n",
    "jg_ratio = residence.value_counts()[7]/ len(data)\n",
    "\n",
    "\n",
    "print(f\"서울 : {se_ratio}, 경기 : {gy_ratio}, 부산 : {bs_ratio}, 제주 : {j_ratio} , 강원 : {k_ratio} , 세종 : {sj_ratio} \")"
   ]
  },
  {
   "cell_type": "markdown",
   "metadata": {},
   "source": [
    " "
   ]
  },
  {
   "cell_type": "markdown",
   "metadata": {},
   "source": [
    "구매제품 비율을 알아보자. "
   ]
  },
  {
   "cell_type": "code",
   "execution_count": 36,
   "metadata": {},
   "outputs": [
    {
     "data": {
      "text/plain": [
       "마스크       50\n",
       "노트북       49\n",
       "화장품       38\n",
       "핸드폰케이스    31\n",
       "자동차용품     31\n",
       "Name: 구매제품, dtype: int64"
      ]
     },
     "execution_count": 36,
     "metadata": {},
     "output_type": "execute_result"
    }
   ],
   "source": [
    "product = data[\"구매제품\"]\n",
    "product.value_counts()"
   ]
  },
  {
   "cell_type": "code",
   "execution_count": 37,
   "metadata": {},
   "outputs": [
    {
     "name": "stdout",
     "output_type": "stream",
     "text": [
      "마스크 : 0.25125628140703515 \n",
      "노트북 : 0.24623115577889448 \n",
      "화장품 : 0.19095477386934673 \n",
      "핸드폰케이스 : 0.15577889447236182 \n",
      "자동차용품 : 0.15577889447236182 \n"
     ]
    }
   ],
   "source": [
    "mask_ratio = product.value_counts()[0]/ len(data)\n",
    "nb_ratio = product.value_counts()[1]/ len(data)\n",
    "makeup_ratio = product.value_counts()[2]/ len(data)\n",
    "hpc_ratio = product.value_counts()[3]/ len(data)\n",
    "car_p_ratio = product.value_counts()[4]/ len(data)\n",
    "\n",
    "print(f\"마스크 : {mask_ratio} \\n노트북 : {nb_ratio} \\n화장품 : {makeup_ratio} \\n핸드폰케이스 : {hpc_ratio} \\n자동차용품 : {car_p_ratio} \")"
   ]
  },
  {
   "cell_type": "markdown",
   "metadata": {},
   "source": [
    " "
   ]
  },
  {
   "cell_type": "markdown",
   "metadata": {},
   "source": [
    "나이와 연봉에 대하여 기초통계량들을 구해보자. "
   ]
  },
  {
   "cell_type": "markdown",
   "metadata": {},
   "source": [
    "(1) 평균 구하기"
   ]
  },
  {
   "cell_type": "code",
   "execution_count": 38,
   "metadata": {},
   "outputs": [],
   "source": [
    "age_ = data[[\"나이\"]]"
   ]
  },
  {
   "cell_type": "code",
   "execution_count": 39,
   "metadata": {},
   "outputs": [
    {
     "data": {
      "text/html": [
       "<div>\n",
       "<style scoped>\n",
       "    .dataframe tbody tr th:only-of-type {\n",
       "        vertical-align: middle;\n",
       "    }\n",
       "\n",
       "    .dataframe tbody tr th {\n",
       "        vertical-align: top;\n",
       "    }\n",
       "\n",
       "    .dataframe thead th {\n",
       "        text-align: right;\n",
       "    }\n",
       "</style>\n",
       "<table border=\"1\" class=\"dataframe\">\n",
       "  <thead>\n",
       "    <tr style=\"text-align: right;\">\n",
       "      <th></th>\n",
       "      <th>나이</th>\n",
       "    </tr>\n",
       "  </thead>\n",
       "  <tbody>\n",
       "    <tr>\n",
       "      <th>0</th>\n",
       "      <td>21</td>\n",
       "    </tr>\n",
       "    <tr>\n",
       "      <th>1</th>\n",
       "      <td>22</td>\n",
       "    </tr>\n",
       "    <tr>\n",
       "      <th>2</th>\n",
       "      <td>25</td>\n",
       "    </tr>\n",
       "    <tr>\n",
       "      <th>3</th>\n",
       "      <td>32</td>\n",
       "    </tr>\n",
       "    <tr>\n",
       "      <th>4</th>\n",
       "      <td>27</td>\n",
       "    </tr>\n",
       "  </tbody>\n",
       "</table>\n",
       "</div>"
      ],
      "text/plain": [
       "   나이\n",
       "0  21\n",
       "1  22\n",
       "2  25\n",
       "3  32\n",
       "4  27"
      ]
     },
     "execution_count": 39,
     "metadata": {},
     "output_type": "execute_result"
    }
   ],
   "source": [
    "age_.head()"
   ]
  },
  {
   "cell_type": "code",
   "execution_count": 40,
   "metadata": {},
   "outputs": [
    {
     "data": {
      "text/plain": [
       "나이    26.58794\n",
       "dtype: float64"
      ]
     },
     "execution_count": 40,
     "metadata": {},
     "output_type": "execute_result"
    }
   ],
   "source": [
    "age_.mean()"
   ]
  },
  {
   "cell_type": "markdown",
   "metadata": {},
   "source": [
    " "
   ]
  },
  {
   "cell_type": "markdown",
   "metadata": {},
   "source": [
    "(2) 분산 구하기"
   ]
  },
  {
   "cell_type": "code",
   "execution_count": 41,
   "metadata": {},
   "outputs": [
    {
     "data": {
      "text/plain": [
       "나이    26.192985\n",
       "dtype: float64"
      ]
     },
     "execution_count": 41,
     "metadata": {},
     "output_type": "execute_result"
    }
   ],
   "source": [
    "age_.var()"
   ]
  },
  {
   "cell_type": "markdown",
   "metadata": {},
   "source": [
    " "
   ]
  },
  {
   "cell_type": "markdown",
   "metadata": {},
   "source": [
    "(3) max값 과 min 값 구하기"
   ]
  },
  {
   "cell_type": "code",
   "execution_count": 42,
   "metadata": {},
   "outputs": [
    {
     "data": {
      "text/plain": [
       "나이    42\n",
       "dtype: int64"
      ]
     },
     "execution_count": 42,
     "metadata": {},
     "output_type": "execute_result"
    }
   ],
   "source": [
    "age_.max()"
   ]
  },
  {
   "cell_type": "code",
   "execution_count": 43,
   "metadata": {},
   "outputs": [
    {
     "data": {
      "text/plain": [
       "나이    15\n",
       "dtype: int64"
      ]
     },
     "execution_count": 43,
     "metadata": {},
     "output_type": "execute_result"
    }
   ],
   "source": [
    "age_.min()"
   ]
  },
  {
   "cell_type": "markdown",
   "metadata": {},
   "source": [
    " "
   ]
  },
  {
   "cell_type": "markdown",
   "metadata": {},
   "source": [
    "(4) 기초통계량들을 한번에 구하기 "
   ]
  },
  {
   "cell_type": "code",
   "execution_count": 45,
   "metadata": {},
   "outputs": [
    {
     "data": {
      "text/html": [
       "<div>\n",
       "<style scoped>\n",
       "    .dataframe tbody tr th:only-of-type {\n",
       "        vertical-align: middle;\n",
       "    }\n",
       "\n",
       "    .dataframe tbody tr th {\n",
       "        vertical-align: top;\n",
       "    }\n",
       "\n",
       "    .dataframe thead th {\n",
       "        text-align: right;\n",
       "    }\n",
       "</style>\n",
       "<table border=\"1\" class=\"dataframe\">\n",
       "  <thead>\n",
       "    <tr style=\"text-align: right;\">\n",
       "      <th></th>\n",
       "      <th>나이</th>\n",
       "      <th>연봉</th>\n",
       "    </tr>\n",
       "  </thead>\n",
       "  <tbody>\n",
       "    <tr>\n",
       "      <th>count</th>\n",
       "      <td>199.000000</td>\n",
       "      <td>199.000000</td>\n",
       "    </tr>\n",
       "    <tr>\n",
       "      <th>mean</th>\n",
       "      <td>26.587940</td>\n",
       "      <td>3315.979899</td>\n",
       "    </tr>\n",
       "    <tr>\n",
       "      <th>std</th>\n",
       "      <td>5.117908</td>\n",
       "      <td>1503.774013</td>\n",
       "    </tr>\n",
       "    <tr>\n",
       "      <th>min</th>\n",
       "      <td>15.000000</td>\n",
       "      <td>30.000000</td>\n",
       "    </tr>\n",
       "    <tr>\n",
       "      <th>25%</th>\n",
       "      <td>22.500000</td>\n",
       "      <td>2400.000000</td>\n",
       "    </tr>\n",
       "    <tr>\n",
       "      <th>50%</th>\n",
       "      <td>26.000000</td>\n",
       "      <td>3100.000000</td>\n",
       "    </tr>\n",
       "    <tr>\n",
       "      <th>75%</th>\n",
       "      <td>30.000000</td>\n",
       "      <td>4000.000000</td>\n",
       "    </tr>\n",
       "    <tr>\n",
       "      <th>max</th>\n",
       "      <td>42.000000</td>\n",
       "      <td>9500.000000</td>\n",
       "    </tr>\n",
       "  </tbody>\n",
       "</table>\n",
       "</div>"
      ],
      "text/plain": [
       "               나이           연봉\n",
       "count  199.000000   199.000000\n",
       "mean    26.587940  3315.979899\n",
       "std      5.117908  1503.774013\n",
       "min     15.000000    30.000000\n",
       "25%     22.500000  2400.000000\n",
       "50%     26.000000  3100.000000\n",
       "75%     30.000000  4000.000000\n",
       "max     42.000000  9500.000000"
      ]
     },
     "execution_count": 45,
     "metadata": {},
     "output_type": "execute_result"
    }
   ],
   "source": [
    "data.describe()"
   ]
  },
  {
   "cell_type": "markdown",
   "metadata": {},
   "source": [
    " "
   ]
  },
  {
   "cell_type": "markdown",
   "metadata": {},
   "source": [
    "5. 왜도 구하기 "
   ]
  },
  {
   "cell_type": "code",
   "execution_count": 47,
   "metadata": {},
   "outputs": [
    {
     "name": "stderr",
     "output_type": "stream",
     "text": [
      "C:\\Users\\ajdma\\AppData\\Local\\Temp/ipykernel_15496/1188251951.py:1: FutureWarning: Dropping of nuisance columns in DataFrame reductions (with 'numeric_only=None') is deprecated; in a future version this will raise TypeError.  Select only valid columns before calling the reduction.\n",
      "  data.skew()\n"
     ]
    },
    {
     "data": {
      "text/plain": [
       "나이    0.512678\n",
       "연봉    0.830328\n",
       "dtype: float64"
      ]
     },
     "execution_count": 47,
     "metadata": {},
     "output_type": "execute_result"
    }
   ],
   "source": [
    "data.skew()"
   ]
  },
  {
   "cell_type": "markdown",
   "metadata": {},
   "source": [
    "왜도가 모두 0에 근접하므로, 정규분포와 비슷하게 대칭이다. "
   ]
  },
  {
   "cell_type": "markdown",
   "metadata": {},
   "source": [
    " "
   ]
  },
  {
   "cell_type": "markdown",
   "metadata": {},
   "source": [
    "6. 첨도 구하기"
   ]
  },
  {
   "cell_type": "code",
   "execution_count": 49,
   "metadata": {},
   "outputs": [
    {
     "name": "stderr",
     "output_type": "stream",
     "text": [
      "C:\\Users\\ajdma\\AppData\\Local\\Temp/ipykernel_8220/2361870383.py:1: FutureWarning: Dropping of nuisance columns in DataFrame reductions (with 'numeric_only=None') is deprecated; in a future version this will raise TypeError.  Select only valid columns before calling the reduction.\n",
      "  data.kurtosis()\n"
     ]
    },
    {
     "data": {
      "text/plain": [
       "나이    0.043387\n",
       "연봉    1.762869\n",
       "dtype: float64"
      ]
     },
     "execution_count": 49,
     "metadata": {},
     "output_type": "execute_result"
    }
   ],
   "source": [
    "data.kurtosis()"
   ]
  },
  {
   "cell_type": "markdown",
   "metadata": {},
   "source": [
    "첨도가 0에 근접하므로, 정규분포의 형태와 비슷함을 알 수 있다. "
   ]
  },
  {
   "cell_type": "markdown",
   "metadata": {},
   "source": [
    " "
   ]
  },
  {
   "cell_type": "markdown",
   "metadata": {},
   "source": [
    " "
   ]
  },
  {
   "cell_type": "markdown",
   "metadata": {},
   "source": [
    "이번에는 수치형 자료(나이,연봉)에 대하여 계급화를 진행해보자. "
   ]
  },
  {
   "cell_type": "markdown",
   "metadata": {},
   "source": [
    "20살 미만 ->10\n",
    "\n",
    "20살 이상, 25살 미만 -> 20-25\n",
    "\n",
    "25살 이상, 30살 미만 -> 25-30\n",
    "\n",
    "30살 이상, 35살 미만 -> 30-35\n",
    "\n",
    "35살 이상, 40살 미만 -> 35-40\n",
    "\n",
    "40살 이상, 45살 미만 -> 40-45 로 계급화를 진행해보자."
   ]
  },
  {
   "cell_type": "markdown",
   "metadata": {},
   "source": [
    "아래의 코드는 고객에 대한 계급을 list에 저장하는 코드이다."
   ]
  },
  {
   "cell_type": "code",
   "execution_count": 50,
   "metadata": {},
   "outputs": [],
   "source": [
    "age=[]\n",
    "\n",
    "for i in range(0,len(data)) :   \n",
    "      \n",
    "    if data.iloc[i,1] < 20 :\n",
    "        age.append('10')\n",
    "    \n",
    "    elif data.iloc[i,1] <25 and data.iloc[i,1] >= 20 :\n",
    "        \n",
    "        age.append('20-25')\n",
    "        \n",
    "    elif data.iloc[i,1] < 30 and  data.iloc[i,1] >= 25 : \n",
    "        \n",
    "        age.append('25-30')\n",
    "    \n",
    "    elif data.iloc[i,1] <35 and data.iloc[i,1] >=30 :\n",
    "        \n",
    "        age.append('30-35')\n",
    "        \n",
    "    elif data.iloc[i,1] <40 and data.iloc[i,1] >=35 :\n",
    "        \n",
    "        age.append('35-40')\n",
    "        \n",
    "    elif data.iloc[i,1] <45 and data.iloc[i,1] >=40 :\n",
    "        \n",
    "        age.append('40-45') "
   ]
  },
  {
   "cell_type": "code",
   "execution_count": 51,
   "metadata": {},
   "outputs": [
    {
     "data": {
      "text/plain": [
       "['20-25',\n",
       " '20-25',\n",
       " '25-30',\n",
       " '30-35',\n",
       " '25-30',\n",
       " '40-45',\n",
       " '25-30',\n",
       " '25-30',\n",
       " '25-30',\n",
       " '20-25',\n",
       " '20-25',\n",
       " '20-25',\n",
       " '35-40',\n",
       " '20-25',\n",
       " '20-25',\n",
       " '25-30',\n",
       " '30-35',\n",
       " '35-40',\n",
       " '25-30',\n",
       " '30-35',\n",
       " '35-40',\n",
       " '20-25',\n",
       " '20-25',\n",
       " '20-25',\n",
       " '20-25',\n",
       " '20-25',\n",
       " '25-30',\n",
       " '25-30',\n",
       " '25-30',\n",
       " '30-35',\n",
       " '25-30',\n",
       " '30-35',\n",
       " '20-25',\n",
       " '20-25',\n",
       " '20-25',\n",
       " '20-25',\n",
       " '25-30',\n",
       " '30-35',\n",
       " '35-40',\n",
       " '25-30',\n",
       " '20-25',\n",
       " '20-25',\n",
       " '20-25',\n",
       " '25-30',\n",
       " '10',\n",
       " '25-30',\n",
       " '20-25',\n",
       " '25-30',\n",
       " '25-30',\n",
       " '30-35',\n",
       " '30-35',\n",
       " '30-35',\n",
       " '30-35',\n",
       " '30-35',\n",
       " '25-30',\n",
       " '25-30',\n",
       " '25-30',\n",
       " '25-30',\n",
       " '10',\n",
       " '20-25',\n",
       " '25-30',\n",
       " '20-25',\n",
       " '25-30',\n",
       " '20-25',\n",
       " '20-25',\n",
       " '25-30',\n",
       " '20-25',\n",
       " '20-25',\n",
       " '20-25',\n",
       " '20-25',\n",
       " '25-30',\n",
       " '25-30',\n",
       " '25-30',\n",
       " '10',\n",
       " '20-25',\n",
       " '25-30',\n",
       " '25-30',\n",
       " '30-35',\n",
       " '30-35',\n",
       " '25-30',\n",
       " '25-30',\n",
       " '35-40',\n",
       " '35-40',\n",
       " '30-35',\n",
       " '20-25',\n",
       " '20-25',\n",
       " '20-25',\n",
       " '20-25',\n",
       " '25-30',\n",
       " '20-25',\n",
       " '25-30',\n",
       " '25-30',\n",
       " '30-35',\n",
       " '20-25',\n",
       " '10',\n",
       " '25-30',\n",
       " '10',\n",
       " '25-30',\n",
       " '20-25',\n",
       " '25-30',\n",
       " '25-30',\n",
       " '20-25',\n",
       " '25-30',\n",
       " '30-35',\n",
       " '35-40',\n",
       " '30-35',\n",
       " '30-35',\n",
       " '25-30',\n",
       " '20-25',\n",
       " '20-25',\n",
       " '20-25',\n",
       " '25-30',\n",
       " '20-25',\n",
       " '25-30',\n",
       " '20-25',\n",
       " '20-25',\n",
       " '10',\n",
       " '20-25',\n",
       " '20-25',\n",
       " '25-30',\n",
       " '20-25',\n",
       " '20-25',\n",
       " '20-25',\n",
       " '20-25',\n",
       " '25-30',\n",
       " '25-30',\n",
       " '25-30',\n",
       " '25-30',\n",
       " '30-35',\n",
       " '30-35',\n",
       " '30-35',\n",
       " '30-35',\n",
       " '20-25',\n",
       " '20-25',\n",
       " '25-30',\n",
       " '20-25',\n",
       " '25-30',\n",
       " '35-40',\n",
       " '10',\n",
       " '30-35',\n",
       " '20-25',\n",
       " '25-30',\n",
       " '25-30',\n",
       " '20-25',\n",
       " '10',\n",
       " '25-30',\n",
       " '30-35',\n",
       " '30-35',\n",
       " '25-30',\n",
       " '30-35',\n",
       " '20-25',\n",
       " '20-25',\n",
       " '25-30',\n",
       " '20-25',\n",
       " '25-30',\n",
       " '25-30',\n",
       " '20-25',\n",
       " '30-35',\n",
       " '20-25',\n",
       " '35-40',\n",
       " '35-40',\n",
       " '20-25',\n",
       " '30-35',\n",
       " '25-30',\n",
       " '30-35',\n",
       " '10',\n",
       " '35-40',\n",
       " '25-30',\n",
       " '25-30',\n",
       " '25-30',\n",
       " '30-35',\n",
       " '25-30',\n",
       " '35-40',\n",
       " '25-30',\n",
       " '30-35',\n",
       " '25-30',\n",
       " '25-30',\n",
       " '30-35',\n",
       " '35-40',\n",
       " '30-35',\n",
       " '20-25',\n",
       " '20-25',\n",
       " '25-30',\n",
       " '30-35',\n",
       " '25-30',\n",
       " '35-40',\n",
       " '40-45',\n",
       " '35-40',\n",
       " '20-25',\n",
       " '20-25',\n",
       " '20-25',\n",
       " '25-30',\n",
       " '20-25',\n",
       " '25-30',\n",
       " '25-30',\n",
       " '25-30',\n",
       " '25-30',\n",
       " '20-25',\n",
       " '25-30']"
      ]
     },
     "execution_count": 51,
     "metadata": {},
     "output_type": "execute_result"
    }
   ],
   "source": [
    "age"
   ]
  },
  {
   "cell_type": "markdown",
   "metadata": {},
   "source": [
    "pd.concat 함수를 이용해서, 데이터 프레임을 합치자."
   ]
  },
  {
   "cell_type": "code",
   "execution_count": 54,
   "metadata": {},
   "outputs": [
    {
     "data": {
      "text/html": [
       "<div>\n",
       "<style scoped>\n",
       "    .dataframe tbody tr th:only-of-type {\n",
       "        vertical-align: middle;\n",
       "    }\n",
       "\n",
       "    .dataframe tbody tr th {\n",
       "        vertical-align: top;\n",
       "    }\n",
       "\n",
       "    .dataframe thead th {\n",
       "        text-align: right;\n",
       "    }\n",
       "</style>\n",
       "<table border=\"1\" class=\"dataframe\">\n",
       "  <thead>\n",
       "    <tr style=\"text-align: right;\">\n",
       "      <th></th>\n",
       "      <th>성별</th>\n",
       "      <th>나이</th>\n",
       "      <th>연봉</th>\n",
       "      <th>지역</th>\n",
       "      <th>구매제품</th>\n",
       "    </tr>\n",
       "  </thead>\n",
       "  <tbody>\n",
       "    <tr>\n",
       "      <th>0</th>\n",
       "      <td>m</td>\n",
       "      <td>21</td>\n",
       "      <td>3300</td>\n",
       "      <td>서울</td>\n",
       "      <td>핸드폰케이스</td>\n",
       "    </tr>\n",
       "    <tr>\n",
       "      <th>1</th>\n",
       "      <td>f</td>\n",
       "      <td>22</td>\n",
       "      <td>5000</td>\n",
       "      <td>경기</td>\n",
       "      <td>마스크</td>\n",
       "    </tr>\n",
       "    <tr>\n",
       "      <th>2</th>\n",
       "      <td>f</td>\n",
       "      <td>25</td>\n",
       "      <td>5200</td>\n",
       "      <td>경기</td>\n",
       "      <td>마스크</td>\n",
       "    </tr>\n",
       "    <tr>\n",
       "      <th>3</th>\n",
       "      <td>f</td>\n",
       "      <td>32</td>\n",
       "      <td>2000</td>\n",
       "      <td>서울</td>\n",
       "      <td>핸드폰케이스</td>\n",
       "    </tr>\n",
       "    <tr>\n",
       "      <th>4</th>\n",
       "      <td>m</td>\n",
       "      <td>27</td>\n",
       "      <td>1800</td>\n",
       "      <td>부산</td>\n",
       "      <td>마스크</td>\n",
       "    </tr>\n",
       "  </tbody>\n",
       "</table>\n",
       "</div>"
      ],
      "text/plain": [
       "  성별  나이    연봉  지역    구매제품\n",
       "0  m  21  3300  서울  핸드폰케이스\n",
       "1  f  22  5000  경기     마스크\n",
       "2  f  25  5200  경기     마스크\n",
       "3  f  32  2000  서울  핸드폰케이스\n",
       "4  m  27  1800  부산     마스크"
      ]
     },
     "execution_count": 54,
     "metadata": {},
     "output_type": "execute_result"
    }
   ],
   "source": [
    "data.head()"
   ]
  },
  {
   "cell_type": "code",
   "execution_count": 55,
   "metadata": {},
   "outputs": [],
   "source": [
    "data_new=pd.concat([data,pd.DataFrame(age)],axis=1)"
   ]
  },
  {
   "cell_type": "code",
   "execution_count": 56,
   "metadata": {},
   "outputs": [
    {
     "data": {
      "text/html": [
       "<div>\n",
       "<style scoped>\n",
       "    .dataframe tbody tr th:only-of-type {\n",
       "        vertical-align: middle;\n",
       "    }\n",
       "\n",
       "    .dataframe tbody tr th {\n",
       "        vertical-align: top;\n",
       "    }\n",
       "\n",
       "    .dataframe thead th {\n",
       "        text-align: right;\n",
       "    }\n",
       "</style>\n",
       "<table border=\"1\" class=\"dataframe\">\n",
       "  <thead>\n",
       "    <tr style=\"text-align: right;\">\n",
       "      <th></th>\n",
       "      <th>성별</th>\n",
       "      <th>나이</th>\n",
       "      <th>연봉</th>\n",
       "      <th>지역</th>\n",
       "      <th>구매제품</th>\n",
       "      <th>0</th>\n",
       "    </tr>\n",
       "  </thead>\n",
       "  <tbody>\n",
       "    <tr>\n",
       "      <th>0</th>\n",
       "      <td>m</td>\n",
       "      <td>21</td>\n",
       "      <td>3300</td>\n",
       "      <td>서울</td>\n",
       "      <td>핸드폰케이스</td>\n",
       "      <td>20-25</td>\n",
       "    </tr>\n",
       "    <tr>\n",
       "      <th>1</th>\n",
       "      <td>f</td>\n",
       "      <td>22</td>\n",
       "      <td>5000</td>\n",
       "      <td>경기</td>\n",
       "      <td>마스크</td>\n",
       "      <td>20-25</td>\n",
       "    </tr>\n",
       "    <tr>\n",
       "      <th>2</th>\n",
       "      <td>f</td>\n",
       "      <td>25</td>\n",
       "      <td>5200</td>\n",
       "      <td>경기</td>\n",
       "      <td>마스크</td>\n",
       "      <td>25-30</td>\n",
       "    </tr>\n",
       "    <tr>\n",
       "      <th>3</th>\n",
       "      <td>f</td>\n",
       "      <td>32</td>\n",
       "      <td>2000</td>\n",
       "      <td>서울</td>\n",
       "      <td>핸드폰케이스</td>\n",
       "      <td>30-35</td>\n",
       "    </tr>\n",
       "    <tr>\n",
       "      <th>4</th>\n",
       "      <td>m</td>\n",
       "      <td>27</td>\n",
       "      <td>1800</td>\n",
       "      <td>부산</td>\n",
       "      <td>마스크</td>\n",
       "      <td>25-30</td>\n",
       "    </tr>\n",
       "  </tbody>\n",
       "</table>\n",
       "</div>"
      ],
      "text/plain": [
       "  성별  나이    연봉  지역    구매제품      0\n",
       "0  m  21  3300  서울  핸드폰케이스  20-25\n",
       "1  f  22  5000  경기     마스크  20-25\n",
       "2  f  25  5200  경기     마스크  25-30\n",
       "3  f  32  2000  서울  핸드폰케이스  30-35\n",
       "4  m  27  1800  부산     마스크  25-30"
      ]
     },
     "execution_count": 56,
     "metadata": {},
     "output_type": "execute_result"
    }
   ],
   "source": [
    "data_new.head()"
   ]
  },
  {
   "cell_type": "markdown",
   "metadata": {},
   "source": [
    " "
   ]
  },
  {
   "cell_type": "markdown",
   "metadata": {},
   "source": [
    "이번에는 시각화를 이용해서 분석결과들을 표현해보자."
   ]
  },
  {
   "cell_type": "markdown",
   "metadata": {},
   "source": [
    "matploblib 이라는 패키지를 다음과 같이 이용한다."
   ]
  },
  {
   "cell_type": "code",
   "execution_count": 57,
   "metadata": {},
   "outputs": [],
   "source": [
    "import matplotlib.pyplot as plt"
   ]
  },
  {
   "cell_type": "markdown",
   "metadata": {},
   "source": [
    " "
   ]
  },
  {
   "cell_type": "markdown",
   "metadata": {},
   "source": [
    "1. 성별에 대한 막대그래프 "
   ]
  },
  {
   "cell_type": "code",
   "execution_count": 65,
   "metadata": {},
   "outputs": [],
   "source": [
    "gender_data = data_new.iloc[:,0].value_counts()\n",
    "gender_data_index = gender_data.index\n",
    "gender_data_value = gender_data.values"
   ]
  },
  {
   "cell_type": "code",
   "execution_count": 66,
   "metadata": {},
   "outputs": [
    {
     "data": {
      "text/plain": [
       "Index(['m', 'f'], dtype='object')"
      ]
     },
     "execution_count": 66,
     "metadata": {},
     "output_type": "execute_result"
    }
   ],
   "source": [
    "gender_data_index"
   ]
  },
  {
   "cell_type": "code",
   "execution_count": 67,
   "metadata": {},
   "outputs": [
    {
     "data": {
      "text/plain": [
       "array([101,  98], dtype=int64)"
      ]
     },
     "execution_count": 67,
     "metadata": {},
     "output_type": "execute_result"
    }
   ],
   "source": [
    "gender_data_value"
   ]
  },
  {
   "cell_type": "code",
   "execution_count": 71,
   "metadata": {},
   "outputs": [
    {
     "data": {
      "text/plain": [
       "<BarContainer object of 2 artists>"
      ]
     },
     "execution_count": 71,
     "metadata": {},
     "output_type": "execute_result"
    },
    {
     "data": {
      "image/png": "[encoded data removed]",
      "text/plain": [
       "<Figure size 432x288 with 1 Axes>"
      ]
     },
     "metadata": {
      "needs_background": "light"
     },
     "output_type": "display_data"
    }
   ],
   "source": [
    "plt.bar(gender_data_index,gender_data_value )"
   ]
  },
  {
   "cell_type": "markdown",
   "metadata": {},
   "source": [
    " "
   ]
  },
  {
   "cell_type": "markdown",
   "metadata": {},
   "source": [
    "2. 연령대에 대한 막대그래프 "
   ]
  },
  {
   "cell_type": "code",
   "execution_count": 72,
   "metadata": {},
   "outputs": [],
   "source": [
    "age_data = data_new.iloc[:,5].value_counts()\n",
    "age_data_index = age_data.index\n",
    "age_data_value = age_data.values"
   ]
  },
  {
   "cell_type": "code",
   "execution_count": 73,
   "metadata": {},
   "outputs": [
    {
     "data": {
      "text/plain": [
       "Index(['25-30', '20-25', '30-35', '35-40', '10', '40-45'], dtype='object')"
      ]
     },
     "execution_count": 73,
     "metadata": {},
     "output_type": "execute_result"
    }
   ],
   "source": [
    "age_data_index"
   ]
  },
  {
   "cell_type": "code",
   "execution_count": 74,
   "metadata": {},
   "outputs": [
    {
     "data": {
      "text/plain": [
       "array([72, 67, 34, 15,  9,  2], dtype=int64)"
      ]
     },
     "execution_count": 74,
     "metadata": {},
     "output_type": "execute_result"
    }
   ],
   "source": [
    "age_data_value"
   ]
  },
  {
   "cell_type": "code",
   "execution_count": 75,
   "metadata": {},
   "outputs": [
    {
     "data": {
      "text/plain": [
       "<BarContainer object of 6 artists>"
      ]
     },
     "execution_count": 75,
     "metadata": {},
     "output_type": "execute_result"
    },
    {
     "data": {
      "image/png": "[encoded data removed]",
      "text/plain": [
       "<Figure size 432x288 with 1 Axes>"
      ]
     },
     "metadata": {
      "needs_background": "light"
     },
     "output_type": "display_data"
    }
   ],
   "source": [
    "plt.bar(age_data_index,age_data_value)"
   ]
  },
  {
   "cell_type": "markdown",
   "metadata": {},
   "source": [
    " "
   ]
  },
  {
   "cell_type": "markdown",
   "metadata": {},
   "source": [
    "3. 연령대에 대한 원그래프"
   ]
  },
  {
   "cell_type": "code",
   "execution_count": 40,
   "metadata": {},
   "outputs": [
    {
     "data": {
      "text/plain": [
       "<AxesSubplot:ylabel='0'>"
      ]
     },
     "execution_count": 40,
     "metadata": {},
     "output_type": "execute_result"
    },
    {
     "data": {
      "image/png": "[encoded data removed]",
      "text/plain": [
       "<Figure size 432x288 with 1 Axes>"
      ]
     },
     "metadata": {},
     "output_type": "display_data"
    }
   ],
   "source": [
    "age_data.plot(kind=\"pie\")"
   ]
  },
  {
   "cell_type": "code",
   "execution_count": 78,
   "metadata": {},
   "outputs": [
    {
     "data": {
      "text/plain": [
       "([<matplotlib.patches.Wedge at 0x2ad812a7a60>,\n",
       "  <matplotlib.patches.Wedge at 0x2ad812a7fa0>,\n",
       "  <matplotlib.patches.Wedge at 0x2ad812b74c0>,\n",
       "  <matplotlib.patches.Wedge at 0x2ad812b79a0>,\n",
       "  <matplotlib.patches.Wedge at 0x2ad812b7e80>,\n",
       "  <matplotlib.patches.Wedge at 0x2ad812c23a0>],\n",
       " [Text(0.46269306054468706, 0.9979554758223389, ''),\n",
       "  Text(-1.0803202486903694, -0.2071428499117907, ''),\n",
       "  Text(0.2326647558157923, -1.0751126040565138, ''),\n",
       "  Text(0.9176203832862346, -0.6066076426963513, ''),\n",
       "  Text(1.0769156298836113, -0.22417119822221762, ''),\n",
       "  Text(1.099451748660139, -0.0347253850686049, '')])"
      ]
     },
     "execution_count": 78,
     "metadata": {},
     "output_type": "execute_result"
    },
    {
     "data": {
      "image/png": "[encoded data removed]",
      "text/plain": [
       "<Figure size 432x288 with 1 Axes>"
      ]
     },
     "metadata": {},
     "output_type": "display_data"
    }
   ],
   "source": [
    "plt.pie(age_data)"
   ]
  },
  {
   "cell_type": "markdown",
   "metadata": {},
   "source": [
    " "
   ]
  },
  {
   "cell_type": "markdown",
   "metadata": {},
   "source": [
    "3. 지역에 대한 막대그래프 "
   ]
  },
  {
   "cell_type": "code",
   "execution_count": 79,
   "metadata": {},
   "outputs": [],
   "source": [
    "location_data = data_new.iloc[:,3].value_counts()\n",
    "location_data_index = location_data.index\n",
    "location_data_value = location_data.values"
   ]
  },
  {
   "cell_type": "code",
   "execution_count": 80,
   "metadata": {
    "scrolled": true
   },
   "outputs": [
    {
     "data": {
      "text/plain": [
       "<BarContainer object of 8 artists>"
      ]
     },
     "execution_count": 80,
     "metadata": {},
     "output_type": "execute_result"
    },
    {
     "name": "stderr",
     "output_type": "stream",
     "text": [
      "C:\\Users\\ajdma\\anaconda3\\lib\\site-packages\\matplotlib\\backends\\backend_agg.py:240: RuntimeWarning: Glyph 49436 missing from current font.\n",
      "  font.set_text(s, 0.0, flags=flags)\n",
      "C:\\Users\\ajdma\\anaconda3\\lib\\site-packages\\matplotlib\\backends\\backend_agg.py:240: RuntimeWarning: Glyph 50872 missing from current font.\n",
      "  font.set_text(s, 0.0, flags=flags)\n",
      "C:\\Users\\ajdma\\anaconda3\\lib\\site-packages\\matplotlib\\backends\\backend_agg.py:240: RuntimeWarning: Glyph 44221 missing from current font.\n",
      "  font.set_text(s, 0.0, flags=flags)\n",
      "C:\\Users\\ajdma\\anaconda3\\lib\\site-packages\\matplotlib\\backends\\backend_agg.py:240: RuntimeWarning: Glyph 44592 missing from current font.\n",
      "  font.set_text(s, 0.0, flags=flags)\n",
      "C:\\Users\\ajdma\\anaconda3\\lib\\site-packages\\matplotlib\\backends\\backend_agg.py:240: RuntimeWarning: Glyph 48512 missing from current font.\n",
      "  font.set_text(s, 0.0, flags=flags)\n",
      "C:\\Users\\ajdma\\anaconda3\\lib\\site-packages\\matplotlib\\backends\\backend_agg.py:240: RuntimeWarning: Glyph 49328 missing from current font.\n",
      "  font.set_text(s, 0.0, flags=flags)\n",
      "C:\\Users\\ajdma\\anaconda3\\lib\\site-packages\\matplotlib\\backends\\backend_agg.py:240: RuntimeWarning: Glyph 51228 missing from current font.\n",
      "  font.set_text(s, 0.0, flags=flags)\n",
      "C:\\Users\\ajdma\\anaconda3\\lib\\site-packages\\matplotlib\\backends\\backend_agg.py:240: RuntimeWarning: Glyph 51452 missing from current font.\n",
      "  font.set_text(s, 0.0, flags=flags)\n",
      "C:\\Users\\ajdma\\anaconda3\\lib\\site-packages\\matplotlib\\backends\\backend_agg.py:240: RuntimeWarning: Glyph 44053 missing from current font.\n",
      "  font.set_text(s, 0.0, flags=flags)\n",
      "C:\\Users\\ajdma\\anaconda3\\lib\\site-packages\\matplotlib\\backends\\backend_agg.py:240: RuntimeWarning: Glyph 50896 missing from current font.\n",
      "  font.set_text(s, 0.0, flags=flags)\n",
      "C:\\Users\\ajdma\\anaconda3\\lib\\site-packages\\matplotlib\\backends\\backend_agg.py:240: RuntimeWarning: Glyph 49464 missing from current font.\n",
      "  font.set_text(s, 0.0, flags=flags)\n",
      "C:\\Users\\ajdma\\anaconda3\\lib\\site-packages\\matplotlib\\backends\\backend_agg.py:240: RuntimeWarning: Glyph 51333 missing from current font.\n",
      "  font.set_text(s, 0.0, flags=flags)\n",
      "C:\\Users\\ajdma\\anaconda3\\lib\\site-packages\\matplotlib\\backends\\backend_agg.py:240: RuntimeWarning: Glyph 51204 missing from current font.\n",
      "  font.set_text(s, 0.0, flags=flags)\n",
      "C:\\Users\\ajdma\\anaconda3\\lib\\site-packages\\matplotlib\\backends\\backend_agg.py:203: RuntimeWarning: Glyph 49436 missing from current font.\n",
      "  font.set_text(s, 0, flags=flags)\n",
      "C:\\Users\\ajdma\\anaconda3\\lib\\site-packages\\matplotlib\\backends\\backend_agg.py:203: RuntimeWarning: Glyph 50872 missing from current font.\n",
      "  font.set_text(s, 0, flags=flags)\n",
      "C:\\Users\\ajdma\\anaconda3\\lib\\site-packages\\matplotlib\\backends\\backend_agg.py:203: RuntimeWarning: Glyph 44221 missing from current font.\n",
      "  font.set_text(s, 0, flags=flags)\n",
      "C:\\Users\\ajdma\\anaconda3\\lib\\site-packages\\matplotlib\\backends\\backend_agg.py:203: RuntimeWarning: Glyph 44592 missing from current font.\n",
      "  font.set_text(s, 0, flags=flags)\n",
      "C:\\Users\\ajdma\\anaconda3\\lib\\site-packages\\matplotlib\\backends\\backend_agg.py:203: RuntimeWarning: Glyph 48512 missing from current font.\n",
      "  font.set_text(s, 0, flags=flags)\n",
      "C:\\Users\\ajdma\\anaconda3\\lib\\site-packages\\matplotlib\\backends\\backend_agg.py:203: RuntimeWarning: Glyph 49328 missing from current font.\n",
      "  font.set_text(s, 0, flags=flags)\n",
      "C:\\Users\\ajdma\\anaconda3\\lib\\site-packages\\matplotlib\\backends\\backend_agg.py:203: RuntimeWarning: Glyph 51228 missing from current font.\n",
      "  font.set_text(s, 0, flags=flags)\n",
      "C:\\Users\\ajdma\\anaconda3\\lib\\site-packages\\matplotlib\\backends\\backend_agg.py:203: RuntimeWarning: Glyph 51452 missing from current font.\n",
      "  font.set_text(s, 0, flags=flags)\n",
      "C:\\Users\\ajdma\\anaconda3\\lib\\site-packages\\matplotlib\\backends\\backend_agg.py:203: RuntimeWarning: Glyph 44053 missing from current font.\n",
      "  font.set_text(s, 0, flags=flags)\n",
      "C:\\Users\\ajdma\\anaconda3\\lib\\site-packages\\matplotlib\\backends\\backend_agg.py:203: RuntimeWarning: Glyph 50896 missing from current font.\n",
      "  font.set_text(s, 0, flags=flags)\n",
      "C:\\Users\\ajdma\\anaconda3\\lib\\site-packages\\matplotlib\\backends\\backend_agg.py:203: RuntimeWarning: Glyph 49464 missing from current font.\n",
      "  font.set_text(s, 0, flags=flags)\n",
      "C:\\Users\\ajdma\\anaconda3\\lib\\site-packages\\matplotlib\\backends\\backend_agg.py:203: RuntimeWarning: Glyph 51333 missing from current font.\n",
      "  font.set_text(s, 0, flags=flags)\n",
      "C:\\Users\\ajdma\\anaconda3\\lib\\site-packages\\matplotlib\\backends\\backend_agg.py:203: RuntimeWarning: Glyph 51204 missing from current font.\n",
      "  font.set_text(s, 0, flags=flags)\n"
     ]
    },
    {
     "data": {
      "image/png": "[encoded data removed]",
      "text/plain": [
       "<Figure size 432x288 with 1 Axes>"
      ]
     },
     "metadata": {
      "needs_background": "light"
     },
     "output_type": "display_data"
    }
   ],
   "source": [
    "plt.bar(location_data_index,location_data_value)"
   ]
  },
  {
   "cell_type": "markdown",
   "metadata": {},
   "source": [
    "위와 같은 현상이 발생한 이유은 x축 Data들이 \"한글\"이기 때문이다.\n",
    "\n",
    "만약, 한글로된 x축 data들을 그래프에 표현하고 싶다면 추가적인 글자체를 다운로드 후 패키지를 이용해야 한다."
   ]
  },
  {
   "cell_type": "markdown",
   "metadata": {},
   "source": [
    " "
   ]
  },
  {
   "cell_type": "markdown",
   "metadata": {},
   "source": [
    "# 5.2 이변량 데이터 분석"
   ]
  },
  {
   "cell_type": "markdown",
   "metadata": {},
   "source": [
    " "
   ]
  },
  {
   "cell_type": "code",
   "execution_count": 81,
   "metadata": {},
   "outputs": [
    {
     "data": {
      "text/html": [
       "<div>\n",
       "<style scoped>\n",
       "    .dataframe tbody tr th:only-of-type {\n",
       "        vertical-align: middle;\n",
       "    }\n",
       "\n",
       "    .dataframe tbody tr th {\n",
       "        vertical-align: top;\n",
       "    }\n",
       "\n",
       "    .dataframe thead th {\n",
       "        text-align: right;\n",
       "    }\n",
       "</style>\n",
       "<table border=\"1\" class=\"dataframe\">\n",
       "  <thead>\n",
       "    <tr style=\"text-align: right;\">\n",
       "      <th></th>\n",
       "      <th>성별</th>\n",
       "      <th>나이</th>\n",
       "      <th>연봉</th>\n",
       "      <th>지역</th>\n",
       "      <th>구매제품</th>\n",
       "    </tr>\n",
       "  </thead>\n",
       "  <tbody>\n",
       "    <tr>\n",
       "      <th>0</th>\n",
       "      <td>m</td>\n",
       "      <td>21</td>\n",
       "      <td>3300</td>\n",
       "      <td>서울</td>\n",
       "      <td>핸드폰케이스</td>\n",
       "    </tr>\n",
       "    <tr>\n",
       "      <th>1</th>\n",
       "      <td>f</td>\n",
       "      <td>22</td>\n",
       "      <td>5000</td>\n",
       "      <td>경기</td>\n",
       "      <td>마스크</td>\n",
       "    </tr>\n",
       "    <tr>\n",
       "      <th>2</th>\n",
       "      <td>f</td>\n",
       "      <td>25</td>\n",
       "      <td>5200</td>\n",
       "      <td>경기</td>\n",
       "      <td>마스크</td>\n",
       "    </tr>\n",
       "    <tr>\n",
       "      <th>3</th>\n",
       "      <td>f</td>\n",
       "      <td>32</td>\n",
       "      <td>2000</td>\n",
       "      <td>서울</td>\n",
       "      <td>핸드폰케이스</td>\n",
       "    </tr>\n",
       "    <tr>\n",
       "      <th>4</th>\n",
       "      <td>m</td>\n",
       "      <td>27</td>\n",
       "      <td>1800</td>\n",
       "      <td>부산</td>\n",
       "      <td>마스크</td>\n",
       "    </tr>\n",
       "  </tbody>\n",
       "</table>\n",
       "</div>"
      ],
      "text/plain": [
       "  성별  나이    연봉  지역    구매제품\n",
       "0  m  21  3300  서울  핸드폰케이스\n",
       "1  f  22  5000  경기     마스크\n",
       "2  f  25  5200  경기     마스크\n",
       "3  f  32  2000  서울  핸드폰케이스\n",
       "4  m  27  1800  부산     마스크"
      ]
     },
     "execution_count": 81,
     "metadata": {},
     "output_type": "execute_result"
    }
   ],
   "source": [
    "data.head()"
   ]
  },
  {
   "cell_type": "markdown",
   "metadata": {},
   "source": [
    " "
   ]
  },
  {
   "cell_type": "markdown",
   "metadata": {},
   "source": [
    "나이와 연봉에 대한 피어슨의 상관계수를 구해보자. "
   ]
  },
  {
   "cell_type": "code",
   "execution_count": 82,
   "metadata": {},
   "outputs": [
    {
     "data": {
      "text/html": [
       "<div>\n",
       "<style scoped>\n",
       "    .dataframe tbody tr th:only-of-type {\n",
       "        vertical-align: middle;\n",
       "    }\n",
       "\n",
       "    .dataframe tbody tr th {\n",
       "        vertical-align: top;\n",
       "    }\n",
       "\n",
       "    .dataframe thead th {\n",
       "        text-align: right;\n",
       "    }\n",
       "</style>\n",
       "<table border=\"1\" class=\"dataframe\">\n",
       "  <thead>\n",
       "    <tr style=\"text-align: right;\">\n",
       "      <th></th>\n",
       "      <th>나이</th>\n",
       "      <th>연봉</th>\n",
       "    </tr>\n",
       "  </thead>\n",
       "  <tbody>\n",
       "    <tr>\n",
       "      <th>나이</th>\n",
       "      <td>1.000000</td>\n",
       "      <td>0.396301</td>\n",
       "    </tr>\n",
       "    <tr>\n",
       "      <th>연봉</th>\n",
       "      <td>0.396301</td>\n",
       "      <td>1.000000</td>\n",
       "    </tr>\n",
       "  </tbody>\n",
       "</table>\n",
       "</div>"
      ],
      "text/plain": [
       "          나이        연봉\n",
       "나이  1.000000  0.396301\n",
       "연봉  0.396301  1.000000"
      ]
     },
     "execution_count": 82,
     "metadata": {},
     "output_type": "execute_result"
    }
   ],
   "source": [
    "data.corr(method=\"pearson\")          #method = pearson, spearman "
   ]
  },
  {
   "cell_type": "markdown",
   "metadata": {},
   "source": [
    "상관계수가 0.39 이므로 상관관계가 크다고 할 수는 없다. "
   ]
  },
  {
   "cell_type": "markdown",
   "metadata": {},
   "source": [
    " "
   ]
  },
  {
   "cell_type": "markdown",
   "metadata": {},
   "source": [
    "나이와 연봉에 대한 산점도를 그려보자. "
   ]
  },
  {
   "cell_type": "code",
   "execution_count": 83,
   "metadata": {},
   "outputs": [],
   "source": [
    "data_age = data[\"나이\"].values\n",
    "data_salary = data[\"연봉\"].values"
   ]
  },
  {
   "cell_type": "code",
   "execution_count": 85,
   "metadata": {},
   "outputs": [
    {
     "data": {
      "text/plain": [
       "Text(0, 0.5, 'salary')"
      ]
     },
     "execution_count": 85,
     "metadata": {},
     "output_type": "execute_result"
    },
    {
     "data": {
      "image/png": "[encoded data removed]",
      "text/plain": [
       "<Figure size 432x288 with 1 Axes>"
      ]
     },
     "metadata": {
      "needs_background": "light"
     },
     "output_type": "display_data"
    }
   ],
   "source": [
    "plt.scatter(data_age,data_salary)\n",
    "plt.xlabel(\"age\")\n",
    "plt.ylabel(\"salary\")"
   ]
  },
  {
   "cell_type": "markdown",
   "metadata": {},
   "source": [
    " "
   ]
  },
  {
   "cell_type": "markdown",
   "metadata": {},
   "source": [
    "# 5.3 이상치 처리 "
   ]
  },
  {
   "cell_type": "markdown",
   "metadata": {},
   "source": [
    "이상치(outlier)는 다른 데이터들에 비하여 멀리 떨어진 데이터를 의미한다.\n",
    "\n",
    "이상치를 제거할때 좋은 경우도 있지만, 제거하지 않아야 되는 상황도 있다. \n",
    "\n",
    "일반적인 상황에서는 제거하는게 좋다. "
   ]
  },
  {
   "cell_type": "markdown",
   "metadata": {},
   "source": [
    " "
   ]
  },
  {
   "cell_type": "markdown",
   "metadata": {},
   "source": [
    "1. 연봉에 대한 Boxplot을 그려보자. "
   ]
  },
  {
   "cell_type": "code",
   "execution_count": 88,
   "metadata": {},
   "outputs": [],
   "source": [
    "data_salary = data[\"연봉\"].values"
   ]
  },
  {
   "cell_type": "code",
   "execution_count": 89,
   "metadata": {},
   "outputs": [
    {
     "data": {
      "text/plain": [
       "Text(0.5, 0, 'salary')"
      ]
     },
     "execution_count": 89,
     "metadata": {},
     "output_type": "execute_result"
    },
    {
     "data": {
      "image/png": "[encoded data removed]",
      "text/plain": [
       "<Figure size 432x288 with 1 Axes>"
      ]
     },
     "metadata": {
      "needs_background": "light"
     },
     "output_type": "display_data"
    }
   ],
   "source": [
    "plt.boxplot(data_salary)\n",
    "plt.xlabel(\"salary\")"
   ]
  },
  {
   "cell_type": "markdown",
   "metadata": {},
   "source": [
    " "
   ]
  },
  {
   "cell_type": "markdown",
   "metadata": {},
   "source": [
    "2. 나이에 대한 Boxplot을 그려보자. "
   ]
  },
  {
   "cell_type": "code",
   "execution_count": 90,
   "metadata": {},
   "outputs": [
    {
     "data": {
      "text/plain": [
       "Text(0.5, 0, 'age')"
      ]
     },
     "execution_count": 90,
     "metadata": {},
     "output_type": "execute_result"
    },
    {
     "data": {
      "image/png": "[encoded data removed]",
      "text/plain": [
       "<Figure size 432x288 with 1 Axes>"
      ]
     },
     "metadata": {
      "needs_background": "light"
     },
     "output_type": "display_data"
    }
   ],
   "source": [
    "data_age = data[\"나이\"].values\n",
    "plt.boxplot(data_age)\n",
    "plt.xlabel(\"age\")"
   ]
  },
  {
   "cell_type": "markdown",
   "metadata": {},
   "source": [
    " "
   ]
  },
  {
   "cell_type": "markdown",
   "metadata": {},
   "source": [
    "IQR 값을 이용해서 연봉에서의 이상치를 찾아보자. "
   ]
  },
  {
   "cell_type": "code",
   "execution_count": 91,
   "metadata": {},
   "outputs": [],
   "source": [
    "data_salary = data[\"연봉\"]"
   ]
  },
  {
   "cell_type": "code",
   "execution_count": 94,
   "metadata": {},
   "outputs": [],
   "source": [
    "Q1 = data_salary.quantile(0.25)\n",
    "Q3 = data_salary.quantile(0.75)\n",
    "\n",
    "IQR_value = Q3-Q1"
   ]
  },
  {
   "cell_type": "code",
   "execution_count": 95,
   "metadata": {},
   "outputs": [
    {
     "data": {
      "text/plain": [
       "1600.0"
      ]
     },
     "execution_count": 95,
     "metadata": {},
     "output_type": "execute_result"
    }
   ],
   "source": [
    "IQR_value"
   ]
  },
  {
   "cell_type": "markdown",
   "metadata": {},
   "source": [
    "IQR_value 의 1.5배 보다 작은 데이터와 큰 데이터를 제거하자. "
   ]
  },
  {
   "cell_type": "code",
   "execution_count": 100,
   "metadata": {},
   "outputs": [],
   "source": [
    "data_salary_new = data_salary[(data_salary > Q1 -IQR_value*1.5 ) & (data_salary < Q3+IQR_value*1.5 )]"
   ]
  },
  {
   "cell_type": "code",
   "execution_count": 101,
   "metadata": {},
   "outputs": [
    {
     "data": {
      "text/plain": [
       "<AxesSubplot:>"
      ]
     },
     "execution_count": 101,
     "metadata": {},
     "output_type": "execute_result"
    },
    {
     "data": {
      "image/png": "[encoded data removed]",
      "text/plain": [
       "<Figure size 432x288 with 1 Axes>"
      ]
     },
     "metadata": {
      "needs_background": "light"
     },
     "output_type": "display_data"
    }
   ],
   "source": [
    "data_salary.hist()"
   ]
  },
  {
   "cell_type": "code",
   "execution_count": 102,
   "metadata": {},
   "outputs": [
    {
     "data": {
      "text/plain": [
       "<AxesSubplot:>"
      ]
     },
     "execution_count": 102,
     "metadata": {},
     "output_type": "execute_result"
    },
    {
     "data": {
      "image/png": "[encoded data removed]",
      "text/plain": [
       "<Figure size 432x288 with 1 Axes>"
      ]
     },
     "metadata": {
      "needs_background": "light"
     },
     "output_type": "display_data"
    }
   ],
   "source": [
    "data_salary_new.hist()"
   ]
  }
 ],
 "metadata": {
  "kernelspec": {
   "display_name": "Python 3",
   "language": "python",
   "name": "python3"
  },
  "language_info": {
   "codemirror_mode": {
    "name": "ipython",
    "version": 3
   },
   "file_extension": ".py",
   "mimetype": "text/x-python",
   "name": "python",
   "nbconvert_exporter": "python",
   "pygments_lexer": "ipython3",
   "version": "3.8.5"
  }
 },
 "nbformat": 4,
 "nbformat_minor": 5
}
